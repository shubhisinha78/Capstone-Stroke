{
  "nbformat": 4,
  "nbformat_minor": 0,
  "metadata": {
    "colab": {
      "name": "Stroke separate",
      "version": "0.3.2",
      "provenance": [],
      "collapsed_sections": [
        "IdWY2wL5qcYM",
        "uxCX-6Ycpf10",
        "V8AhA1BnpmRk",
        "WNvz84ZdwUGq",
        "mfZDcd3eU_8o",
        "iRRr1Xvtww6C",
        "Ay2nc1XHqMId",
        "-TvYOed4fj9w",
        "2hP9T3d4fmcZ"
      ]
    },
    "kernelspec": {
      "display_name": "Python 3",
      "language": "python",
      "name": "python3"
    }
  },
  "cells": [
    {
      "metadata": {
        "id": "IdWY2wL5qcYM",
        "colab_type": "text"
      },
      "cell_type": "markdown",
      "source": [
        "# ** Importing Libraries**"
      ]
    },
    {
      "metadata": {
        "_uuid": "4a6e56c8be3ba785d7434891069135af56434e6d",
        "id": "YWHTbBaRVtGc",
        "colab_type": "code",
        "colab": {}
      },
      "cell_type": "code",
      "source": [
        "import pandas as pd\n",
        "import numpy as np"
      ],
      "execution_count": 0,
      "outputs": []
    },
    {
      "metadata": {
        "id": "Qh_DFzTVp02b",
        "colab_type": "code",
        "colab": {}
      },
      "cell_type": "code",
      "source": [
        "from sklearn.model_selection import cross_val_score\n",
        "from sklearn.model_selection import GridSearchCV\n",
        "from sklearn.tree import DecisionTreeClassifier\n",
        "from sklearn.ensemble import AdaBoostClassifier,BaggingClassifier,RandomForestClassifier,GradientBoostingClassifier\n",
        "from sklearn.metrics import f1_score,confusion_matrix,classification_report\n",
        "from sklearn.metrics import roc_auc_score,cohen_kappa_score,matthews_corrcoef\n",
        "from sklearn.svm import LinearSVC\n",
        "from sklearn.neighbors import KNeighborsClassifier\n",
        "from sklearn.linear_model import LogisticRegression\n",
        "from sklearn.naive_bayes import GaussianNB\n",
        "\n",
        "from xgboost import XGBClassifier \n",
        "import xgboost as xgb"
      ],
      "execution_count": 0,
      "outputs": []
    },
    {
      "metadata": {
        "id": "uxCX-6Ycpf10",
        "colab_type": "text"
      },
      "cell_type": "markdown",
      "source": [
        "# Data Preprocessing"
      ]
    },
    {
      "metadata": {
        "id": "bRH5u4uiV3fL",
        "colab_type": "code",
        "outputId": "db9900bf-46b9-46a9-9770-4f4fec79fe67",
        "colab": {
          "resources": {
            "http://localhost:8080/nbextensions/google.colab/files.js": {
              "data": "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",
              "ok": true,
              "headers": [
                [
                  "content-type",
                  "application/javascript"
                ]
              ],
              "status": 200,
              "status_text": ""
            }
          },
          "base_uri": "https://localhost:8080/",
          "height": 74
        }
      },
      "cell_type": "code",
      "source": [
        "from google.colab import files\n",
        "file=files.upload()"
      ],
      "execution_count": 6,
      "outputs": [
        {
          "output_type": "display_data",
          "data": {
            "text/html": [
              "\n",
              "     <input type=\"file\" id=\"files-03550c11-6f78-4e5f-b8a9-b514c97ce4c7\" name=\"files[]\" multiple disabled />\n",
              "     <output id=\"result-03550c11-6f78-4e5f-b8a9-b514c97ce4c7\">\n",
              "      Upload widget is only available when the cell has been executed in the\n",
              "      current browser session. Please rerun this cell to enable.\n",
              "      </output>\n",
              "      <script src=\"/nbextensions/google.colab/files.js\"></script> "
            ],
            "text/plain": [
              "<IPython.core.display.HTML object>"
            ]
          },
          "metadata": {
            "tags": []
          }
        },
        {
          "output_type": "stream",
          "text": [
            "Saving PatientData.csv to PatientData.csv\n"
          ],
          "name": "stdout"
        }
      ]
    },
    {
      "metadata": {
        "_uuid": "1ebdb5836d943735ee1ea5ba1e95bef758cc3b26",
        "id": "ilF3yBS-VtGx",
        "colab_type": "code",
        "outputId": "6fdecea6-7347-4550-9529-a7fefaae5e29",
        "colab": {
          "base_uri": "https://localhost:8080/",
          "height": 204
        }
      },
      "cell_type": "code",
      "source": [
        "data=pd.read_csv('PatientData.csv')\n",
        "data.head()"
      ],
      "execution_count": 8,
      "outputs": [
        {
          "output_type": "execute_result",
          "data": {
            "text/html": [
              "<div>\n",
              "<style scoped>\n",
              "    .dataframe tbody tr th:only-of-type {\n",
              "        vertical-align: middle;\n",
              "    }\n",
              "\n",
              "    .dataframe tbody tr th {\n",
              "        vertical-align: top;\n",
              "    }\n",
              "\n",
              "    .dataframe thead th {\n",
              "        text-align: right;\n",
              "    }\n",
              "</style>\n",
              "<table border=\"1\" class=\"dataframe\">\n",
              "  <thead>\n",
              "    <tr style=\"text-align: right;\">\n",
              "      <th></th>\n",
              "      <th>gender</th>\n",
              "      <th>age</th>\n",
              "      <th>diabetes</th>\n",
              "      <th>hypertension</th>\n",
              "      <th>stroke</th>\n",
              "      <th>heart disease</th>\n",
              "      <th>smoking history</th>\n",
              "      <th>BMI</th>\n",
              "    </tr>\n",
              "  </thead>\n",
              "  <tbody>\n",
              "    <tr>\n",
              "      <th>0</th>\n",
              "      <td>Female</td>\n",
              "      <td>80.0</td>\n",
              "      <td>0</td>\n",
              "      <td>0</td>\n",
              "      <td>0</td>\n",
              "      <td>1</td>\n",
              "      <td>never</td>\n",
              "      <td>25.19</td>\n",
              "    </tr>\n",
              "    <tr>\n",
              "      <th>1</th>\n",
              "      <td>Female</td>\n",
              "      <td>54.0</td>\n",
              "      <td>0</td>\n",
              "      <td>0</td>\n",
              "      <td>0</td>\n",
              "      <td>0</td>\n",
              "      <td>NaN</td>\n",
              "      <td>NaN</td>\n",
              "    </tr>\n",
              "    <tr>\n",
              "      <th>2</th>\n",
              "      <td>Male</td>\n",
              "      <td>28.0</td>\n",
              "      <td>0</td>\n",
              "      <td>0</td>\n",
              "      <td>0</td>\n",
              "      <td>0</td>\n",
              "      <td>never</td>\n",
              "      <td>NaN</td>\n",
              "    </tr>\n",
              "    <tr>\n",
              "      <th>3</th>\n",
              "      <td>Female</td>\n",
              "      <td>36.0</td>\n",
              "      <td>0</td>\n",
              "      <td>0</td>\n",
              "      <td>0</td>\n",
              "      <td>0</td>\n",
              "      <td>current</td>\n",
              "      <td>23.45</td>\n",
              "    </tr>\n",
              "    <tr>\n",
              "      <th>4</th>\n",
              "      <td>Male</td>\n",
              "      <td>76.0</td>\n",
              "      <td>0</td>\n",
              "      <td>1</td>\n",
              "      <td>0</td>\n",
              "      <td>1</td>\n",
              "      <td>current</td>\n",
              "      <td>20.14</td>\n",
              "    </tr>\n",
              "  </tbody>\n",
              "</table>\n",
              "</div>"
            ],
            "text/plain": [
              "   gender   age  diabetes  hypertension  stroke  heart disease  \\\n",
              "0  Female  80.0         0             0       0              1   \n",
              "1  Female  54.0         0             0       0              0   \n",
              "2    Male  28.0         0             0       0              0   \n",
              "3  Female  36.0         0             0       0              0   \n",
              "4    Male  76.0         0             1       0              1   \n",
              "\n",
              "  smoking history    BMI  \n",
              "0           never  25.19  \n",
              "1             NaN    NaN  \n",
              "2           never    NaN  \n",
              "3         current  23.45  \n",
              "4         current  20.14  "
            ]
          },
          "metadata": {
            "tags": []
          },
          "execution_count": 8
        }
      ]
    },
    {
      "metadata": {
        "_uuid": "f4e78b6cf2dc7a7613ad8066ed66d70fe6485b51",
        "id": "sBHLN8kYVtHM",
        "colab_type": "code",
        "outputId": "f22b356b-4b97-4f6d-bb9e-e6badbd44e0f",
        "colab": {
          "base_uri": "https://localhost:8080/",
          "height": 170
        }
      },
      "cell_type": "code",
      "source": [
        "data.isna().sum()"
      ],
      "execution_count": 9,
      "outputs": [
        {
          "output_type": "execute_result",
          "data": {
            "text/plain": [
              "gender                 0\n",
              "age                    0\n",
              "diabetes               0\n",
              "hypertension           0\n",
              "stroke                 0\n",
              "heart disease          0\n",
              "smoking history    35816\n",
              "BMI                25444\n",
              "dtype: int64"
            ]
          },
          "metadata": {
            "tags": []
          },
          "execution_count": 9
        }
      ]
    },
    {
      "metadata": {
        "id": "ICzB-wnKXnnh",
        "colab_type": "code",
        "outputId": "4e9fa5f4-c61d-496f-896d-36c30a9b7f5e",
        "colab": {
          "base_uri": "https://localhost:8080/",
          "height": 170
        }
      },
      "cell_type": "code",
      "source": [
        "data.dtypes"
      ],
      "execution_count": 10,
      "outputs": [
        {
          "output_type": "execute_result",
          "data": {
            "text/plain": [
              "gender              object\n",
              "age                float64\n",
              "diabetes             int64\n",
              "hypertension         int64\n",
              "stroke               int64\n",
              "heart disease        int64\n",
              "smoking history     object\n",
              "BMI                float64\n",
              "dtype: object"
            ]
          },
          "metadata": {
            "tags": []
          },
          "execution_count": 10
        }
      ]
    },
    {
      "metadata": {
        "_uuid": "dbfb45f1d369527e2a63b996e14cbd7fb40ab404",
        "id": "PGt0G621VtIh",
        "colab_type": "code",
        "colab": {}
      },
      "cell_type": "code",
      "source": [
        "import matplotlib.pyplot as plt\n",
        "%matplotlib inline"
      ],
      "execution_count": 0,
      "outputs": []
    },
    {
      "metadata": {
        "_uuid": "826d355a8fb9e6059110f70fa66daa435c1f7c3a",
        "id": "qJ3FUUi8VtIu",
        "colab_type": "code",
        "colab": {
          "base_uri": "https://localhost:8080/",
          "height": 286
        },
        "outputId": "488e4a6e-5590-4589-daf3-22eb5fc52582"
      },
      "cell_type": "code",
      "source": [
        "plt.scatter(data.index,data.BMI)"
      ],
      "execution_count": 12,
      "outputs": [
        {
          "output_type": "execute_result",
          "data": {
            "text/plain": [
              "<matplotlib.collections.PathCollection at 0x7fe3c8e19470>"
            ]
          },
          "metadata": {
            "tags": []
          },
          "execution_count": 12
        },
        {
          "output_type": "display_data",
          "data": {
            "image/png": "[encoded data removed]",
            "text/plain": [
              "<Figure size 432x288 with 1 Axes>"
            ]
          },
          "metadata": {
            "tags": []
          }
        }
      ]
    },
    {
      "metadata": {
        "_uuid": "1c8741bfacf46bc382e7f2e185a8e8a3902447c8",
        "id": "LJTnoKJrVtI7",
        "colab_type": "code",
        "colab": {}
      },
      "cell_type": "code",
      "source": [
        "data['smoking history']=data['smoking history'].fillna('Unknown')"
      ],
      "execution_count": 0,
      "outputs": []
    },
    {
      "metadata": {
        "_uuid": "10138c7e0d74796570a5867b1a4f11e4cb3bc61d",
        "id": "RlxPhAUDVtJI",
        "colab_type": "code",
        "outputId": "34657ff4-d5d0-4a7c-c805-e43c63587890",
        "colab": {
          "base_uri": "https://localhost:8080/",
          "height": 136
        }
      },
      "cell_type": "code",
      "source": [
        "data['smoking history'].value_counts()"
      ],
      "execution_count": 14,
      "outputs": [
        {
          "output_type": "execute_result",
          "data": {
            "text/plain": [
              "Unknown        35816\n",
              "never          35095\n",
              "former          9352\n",
              "current         9286\n",
              "not current     6447\n",
              "ever            4004\n",
              "Name: smoking history, dtype: int64"
            ]
          },
          "metadata": {
            "tags": []
          },
          "execution_count": 14
        }
      ]
    },
    {
      "metadata": {
        "_uuid": "470d26beffbc74e45ef153c29bda8dacc7c522b8",
        "id": "ZUkY9tkxVtKf",
        "colab_type": "code",
        "colab": {}
      },
      "cell_type": "code",
      "source": [
        "train_data_cat=data.select_dtypes(include=[object])\n",
        "train_data_num=data.select_dtypes(exclude=[object])\n",
        "train_data_cat=pd.get_dummies(train_data_cat, columns=train_data_cat.columns, drop_first=True)\n",
        "data_df=pd.concat([train_data_cat,train_data_num],axis=1)"
      ],
      "execution_count": 0,
      "outputs": []
    },
    {
      "metadata": {
        "_uuid": "d323a733437812f6890266faa426c28660be74a2",
        "id": "kQS65Sp2VtKs",
        "colab_type": "code",
        "outputId": "cf4af5e3-9be6-450a-b73c-028350b0e0ce",
        "colab": {
          "base_uri": "https://localhost:8080/",
          "height": 238
        }
      },
      "cell_type": "code",
      "source": [
        "data_df.head()"
      ],
      "execution_count": 16,
      "outputs": [
        {
          "output_type": "execute_result",
          "data": {
            "text/html": [
              "<div>\n",
              "<style scoped>\n",
              "    .dataframe tbody tr th:only-of-type {\n",
              "        vertical-align: middle;\n",
              "    }\n",
              "\n",
              "    .dataframe tbody tr th {\n",
              "        vertical-align: top;\n",
              "    }\n",
              "\n",
              "    .dataframe thead th {\n",
              "        text-align: right;\n",
              "    }\n",
              "</style>\n",
              "<table border=\"1\" class=\"dataframe\">\n",
              "  <thead>\n",
              "    <tr style=\"text-align: right;\">\n",
              "      <th></th>\n",
              "      <th>gender_Male</th>\n",
              "      <th>gender_Other</th>\n",
              "      <th>smoking history_current</th>\n",
              "      <th>smoking history_ever</th>\n",
              "      <th>smoking history_former</th>\n",
              "      <th>smoking history_never</th>\n",
              "      <th>smoking history_not current</th>\n",
              "      <th>age</th>\n",
              "      <th>diabetes</th>\n",
              "      <th>hypertension</th>\n",
              "      <th>stroke</th>\n",
              "      <th>heart disease</th>\n",
              "      <th>BMI</th>\n",
              "    </tr>\n",
              "  </thead>\n",
              "  <tbody>\n",
              "    <tr>\n",
              "      <th>0</th>\n",
              "      <td>0</td>\n",
              "      <td>0</td>\n",
              "      <td>0</td>\n",
              "      <td>0</td>\n",
              "      <td>0</td>\n",
              "      <td>1</td>\n",
              "      <td>0</td>\n",
              "      <td>80.0</td>\n",
              "      <td>0</td>\n",
              "      <td>0</td>\n",
              "      <td>0</td>\n",
              "      <td>1</td>\n",
              "      <td>25.19</td>\n",
              "    </tr>\n",
              "    <tr>\n",
              "      <th>1</th>\n",
              "      <td>0</td>\n",
              "      <td>0</td>\n",
              "      <td>0</td>\n",
              "      <td>0</td>\n",
              "      <td>0</td>\n",
              "      <td>0</td>\n",
              "      <td>0</td>\n",
              "      <td>54.0</td>\n",
              "      <td>0</td>\n",
              "      <td>0</td>\n",
              "      <td>0</td>\n",
              "      <td>0</td>\n",
              "      <td>NaN</td>\n",
              "    </tr>\n",
              "    <tr>\n",
              "      <th>2</th>\n",
              "      <td>1</td>\n",
              "      <td>0</td>\n",
              "      <td>0</td>\n",
              "      <td>0</td>\n",
              "      <td>0</td>\n",
              "      <td>1</td>\n",
              "      <td>0</td>\n",
              "      <td>28.0</td>\n",
              "      <td>0</td>\n",
              "      <td>0</td>\n",
              "      <td>0</td>\n",
              "      <td>0</td>\n",
              "      <td>NaN</td>\n",
              "    </tr>\n",
              "    <tr>\n",
              "      <th>3</th>\n",
              "      <td>0</td>\n",
              "      <td>0</td>\n",
              "      <td>1</td>\n",
              "      <td>0</td>\n",
              "      <td>0</td>\n",
              "      <td>0</td>\n",
              "      <td>0</td>\n",
              "      <td>36.0</td>\n",
              "      <td>0</td>\n",
              "      <td>0</td>\n",
              "      <td>0</td>\n",
              "      <td>0</td>\n",
              "      <td>23.45</td>\n",
              "    </tr>\n",
              "    <tr>\n",
              "      <th>4</th>\n",
              "      <td>1</td>\n",
              "      <td>0</td>\n",
              "      <td>1</td>\n",
              "      <td>0</td>\n",
              "      <td>0</td>\n",
              "      <td>0</td>\n",
              "      <td>0</td>\n",
              "      <td>76.0</td>\n",
              "      <td>0</td>\n",
              "      <td>1</td>\n",
              "      <td>0</td>\n",
              "      <td>1</td>\n",
              "      <td>20.14</td>\n",
              "    </tr>\n",
              "  </tbody>\n",
              "</table>\n",
              "</div>"
            ],
            "text/plain": [
              "   gender_Male  gender_Other  smoking history_current  smoking history_ever  \\\n",
              "0            0             0                        0                     0   \n",
              "1            0             0                        0                     0   \n",
              "2            1             0                        0                     0   \n",
              "3            0             0                        1                     0   \n",
              "4            1             0                        1                     0   \n",
              "\n",
              "   smoking history_former  smoking history_never  smoking history_not current  \\\n",
              "0                       0                      1                            0   \n",
              "1                       0                      0                            0   \n",
              "2                       0                      1                            0   \n",
              "3                       0                      0                            0   \n",
              "4                       0                      0                            0   \n",
              "\n",
              "    age  diabetes  hypertension  stroke  heart disease    BMI  \n",
              "0  80.0         0             0       0              1  25.19  \n",
              "1  54.0         0             0       0              0    NaN  \n",
              "2  28.0         0             0       0              0    NaN  \n",
              "3  36.0         0             0       0              0  23.45  \n",
              "4  76.0         0             1       0              1  20.14  "
            ]
          },
          "metadata": {
            "tags": []
          },
          "execution_count": 16
        }
      ]
    },
    {
      "metadata": {
        "_uuid": "ecdc878c63a4d7c250ef2944a433e9b87632b123",
        "id": "AZYyHZD7VtLY",
        "colab_type": "code",
        "outputId": "613718f4-6eb3-4e6a-d090-da6e2700d123",
        "colab": {
          "base_uri": "https://localhost:8080/",
          "height": 34
        }
      },
      "cell_type": "code",
      "source": [
        "from fancyimpute import IterativeImputer"
      ],
      "execution_count": 17,
      "outputs": [
        {
          "output_type": "stream",
          "text": [
            "Using TensorFlow backend.\n"
          ],
          "name": "stderr"
        }
      ]
    },
    {
      "metadata": {
        "_uuid": "77e8425327c4b3e842800fc4f24dde0e910fb7ff",
        "id": "237EVe7VVtLt",
        "colab_type": "code",
        "colab": {}
      },
      "cell_type": "code",
      "source": [
        "XY_incomplete = data_df.copy()"
      ],
      "execution_count": 0,
      "outputs": []
    },
    {
      "metadata": {
        "_uuid": "8ce98906a5ac427b4017c789ce792e15fcb83901",
        "id": "Wx26m87zVtL_",
        "colab_type": "code",
        "colab": {}
      },
      "cell_type": "code",
      "source": [
        "data_complete_df = pd.DataFrame(IterativeImputer(n_iter=20, sample_posterior=True, random_state=8).fit_transform(XY_incomplete))"
      ],
      "execution_count": 0,
      "outputs": []
    },
    {
      "metadata": {
        "_uuid": "5a2a575cab17e3304b492f80d81a82c019f331cb",
        "id": "Bzy8UgjPVtMK",
        "colab_type": "code",
        "colab": {}
      },
      "cell_type": "code",
      "source": [
        "data_complete_df.columns=data_df.columns"
      ],
      "execution_count": 0,
      "outputs": []
    },
    {
      "metadata": {
        "_uuid": "94a2339789e9814190a41fba49700ca62e9eb6f1",
        "id": "CCR8jrgZVtMY",
        "colab_type": "code",
        "outputId": "7eaa4f6d-0453-4b39-dbc0-d99b80fd8d86",
        "colab": {
          "base_uri": "https://localhost:8080/",
          "height": 258
        }
      },
      "cell_type": "code",
      "source": [
        "data_complete_df.head()"
      ],
      "execution_count": 21,
      "outputs": [
        {
          "output_type": "execute_result",
          "data": {
            "text/html": [
              "<div>\n",
              "<style scoped>\n",
              "    .dataframe tbody tr th:only-of-type {\n",
              "        vertical-align: middle;\n",
              "    }\n",
              "\n",
              "    .dataframe tbody tr th {\n",
              "        vertical-align: top;\n",
              "    }\n",
              "\n",
              "    .dataframe thead th {\n",
              "        text-align: right;\n",
              "    }\n",
              "</style>\n",
              "<table border=\"1\" class=\"dataframe\">\n",
              "  <thead>\n",
              "    <tr style=\"text-align: right;\">\n",
              "      <th></th>\n",
              "      <th>gender_Male</th>\n",
              "      <th>gender_Other</th>\n",
              "      <th>smoking history_current</th>\n",
              "      <th>smoking history_ever</th>\n",
              "      <th>smoking history_former</th>\n",
              "      <th>smoking history_never</th>\n",
              "      <th>smoking history_not current</th>\n",
              "      <th>age</th>\n",
              "      <th>diabetes</th>\n",
              "      <th>hypertension</th>\n",
              "      <th>stroke</th>\n",
              "      <th>heart disease</th>\n",
              "      <th>BMI</th>\n",
              "    </tr>\n",
              "  </thead>\n",
              "  <tbody>\n",
              "    <tr>\n",
              "      <th>0</th>\n",
              "      <td>0.0</td>\n",
              "      <td>0.0</td>\n",
              "      <td>0.0</td>\n",
              "      <td>0.0</td>\n",
              "      <td>0.0</td>\n",
              "      <td>1.0</td>\n",
              "      <td>0.0</td>\n",
              "      <td>80.0</td>\n",
              "      <td>0.0</td>\n",
              "      <td>0.0</td>\n",
              "      <td>0.0</td>\n",
              "      <td>1.0</td>\n",
              "      <td>25.190000</td>\n",
              "    </tr>\n",
              "    <tr>\n",
              "      <th>1</th>\n",
              "      <td>0.0</td>\n",
              "      <td>0.0</td>\n",
              "      <td>0.0</td>\n",
              "      <td>0.0</td>\n",
              "      <td>0.0</td>\n",
              "      <td>0.0</td>\n",
              "      <td>0.0</td>\n",
              "      <td>54.0</td>\n",
              "      <td>0.0</td>\n",
              "      <td>0.0</td>\n",
              "      <td>0.0</td>\n",
              "      <td>0.0</td>\n",
              "      <td>18.982447</td>\n",
              "    </tr>\n",
              "    <tr>\n",
              "      <th>2</th>\n",
              "      <td>1.0</td>\n",
              "      <td>0.0</td>\n",
              "      <td>0.0</td>\n",
              "      <td>0.0</td>\n",
              "      <td>0.0</td>\n",
              "      <td>1.0</td>\n",
              "      <td>0.0</td>\n",
              "      <td>28.0</td>\n",
              "      <td>0.0</td>\n",
              "      <td>0.0</td>\n",
              "      <td>0.0</td>\n",
              "      <td>0.0</td>\n",
              "      <td>27.603525</td>\n",
              "    </tr>\n",
              "    <tr>\n",
              "      <th>3</th>\n",
              "      <td>0.0</td>\n",
              "      <td>0.0</td>\n",
              "      <td>1.0</td>\n",
              "      <td>0.0</td>\n",
              "      <td>0.0</td>\n",
              "      <td>0.0</td>\n",
              "      <td>0.0</td>\n",
              "      <td>36.0</td>\n",
              "      <td>0.0</td>\n",
              "      <td>0.0</td>\n",
              "      <td>0.0</td>\n",
              "      <td>0.0</td>\n",
              "      <td>23.450000</td>\n",
              "    </tr>\n",
              "    <tr>\n",
              "      <th>4</th>\n",
              "      <td>1.0</td>\n",
              "      <td>0.0</td>\n",
              "      <td>1.0</td>\n",
              "      <td>0.0</td>\n",
              "      <td>0.0</td>\n",
              "      <td>0.0</td>\n",
              "      <td>0.0</td>\n",
              "      <td>76.0</td>\n",
              "      <td>0.0</td>\n",
              "      <td>1.0</td>\n",
              "      <td>0.0</td>\n",
              "      <td>1.0</td>\n",
              "      <td>20.140000</td>\n",
              "    </tr>\n",
              "  </tbody>\n",
              "</table>\n",
              "</div>"
            ],
            "text/plain": [
              "   gender_Male  gender_Other  smoking history_current  smoking history_ever  \\\n",
              "0          0.0           0.0                      0.0                   0.0   \n",
              "1          0.0           0.0                      0.0                   0.0   \n",
              "2          1.0           0.0                      0.0                   0.0   \n",
              "3          0.0           0.0                      1.0                   0.0   \n",
              "4          1.0           0.0                      1.0                   0.0   \n",
              "\n",
              "   smoking history_former  smoking history_never  smoking history_not current  \\\n",
              "0                     0.0                    1.0                          0.0   \n",
              "1                     0.0                    0.0                          0.0   \n",
              "2                     0.0                    1.0                          0.0   \n",
              "3                     0.0                    0.0                          0.0   \n",
              "4                     0.0                    0.0                          0.0   \n",
              "\n",
              "    age  diabetes  hypertension  stroke  heart disease        BMI  \n",
              "0  80.0       0.0           0.0     0.0            1.0  25.190000  \n",
              "1  54.0       0.0           0.0     0.0            0.0  18.982447  \n",
              "2  28.0       0.0           0.0     0.0            0.0  27.603525  \n",
              "3  36.0       0.0           0.0     0.0            0.0  23.450000  \n",
              "4  76.0       0.0           1.0     0.0            1.0  20.140000  "
            ]
          },
          "metadata": {
            "tags": []
          },
          "execution_count": 21
        }
      ]
    },
    {
      "metadata": {
        "id": "Q_-PsxTin74o",
        "colab_type": "code",
        "colab": {
          "base_uri": "https://localhost:8080/",
          "height": 34
        },
        "outputId": "6ed8e57a-07a3-4b45-d8c9-ecf659e14e80"
      },
      "cell_type": "code",
      "source": [
        "data_complete_df.shape"
      ],
      "execution_count": 42,
      "outputs": [
        {
          "output_type": "execute_result",
          "data": {
            "text/plain": [
              "(100000, 22)"
            ]
          },
          "metadata": {
            "tags": []
          },
          "execution_count": 42
        }
      ]
    },
    {
      "metadata": {
        "_uuid": "509b36c9ecb4617a8ee96438ccd59d3c6b7abd07",
        "id": "i39jpBw0VtMt",
        "colab_type": "code",
        "colab": {}
      },
      "cell_type": "code",
      "source": [
        "data_complete_df['diabetes & hypertension']=data_complete_df['diabetes']*data_complete_df['hypertension']\n",
        "data_complete_df['diabetes & srtoke']=data_complete_df['diabetes']*data_complete_df['stroke']\n",
        "data_complete_df['diabetes & heart disease']=data_complete_df['diabetes']*data_complete_df['heart disease']\n",
        "data_complete_df['hypertension & stroke']=data_complete_df['hypertension']*data_complete_df['stroke']\n",
        "data_complete_df['hypertension & heart disease']=data_complete_df['hypertension']*data_complete_df['heart disease']\n",
        "data_complete_df['stroke & heart disease']=data_complete_df['stroke']*data_complete_df['heart disease']"
      ],
      "execution_count": 0,
      "outputs": []
    },
    {
      "metadata": {
        "_uuid": "b73692337ee135d642d9b2b91bc9e96879f0d439",
        "id": "VYRZvQNxVtM4",
        "colab_type": "code",
        "colab": {}
      },
      "cell_type": "code",
      "source": [
        "data_complete_df['diabetes,hypertension,stroke']=data_complete_df['diabetes']*data_complete_df['hypertension']*data_complete_df['stroke']\n",
        "data_complete_df['diabetes,hypertension,heart disease']=data_complete_df['diabetes']*data_complete_df['hypertension']*data_complete_df['heart disease']\n",
        "data_complete_df['hypertension,stroke,heart disease']=data_complete_df['hypertension']*data_complete_df['stroke']*data_complete_df['heart disease']"
      ],
      "execution_count": 0,
      "outputs": []
    },
    {
      "metadata": {
        "_uuid": "7128b6e32d02d45356409055dfeaa7724c0b0338",
        "id": "HcDLgyd4VtNG",
        "colab_type": "code",
        "outputId": "8eed6388-4958-4236-a629-314959768a28",
        "colab": {
          "base_uri": "https://localhost:8080/",
          "height": 34
        }
      },
      "cell_type": "code",
      "source": [
        "data_complete_df.shape"
      ],
      "execution_count": 24,
      "outputs": [
        {
          "output_type": "execute_result",
          "data": {
            "text/plain": [
              "(100000, 22)"
            ]
          },
          "metadata": {
            "tags": []
          },
          "execution_count": 24
        }
      ]
    },
    {
      "metadata": {
        "_uuid": "650b44b512cd53a1e943099ee32bdc642afd54a7",
        "id": "gV_3Ejl5VtNe",
        "colab_type": "code",
        "outputId": "82222bd3-70fb-4c2d-a0eb-4964e1a312d1",
        "colab": {
          "base_uri": "https://localhost:8080/",
          "height": 287
        }
      },
      "cell_type": "code",
      "source": [
        "data_complete_df.head()"
      ],
      "execution_count": 25,
      "outputs": [
        {
          "output_type": "execute_result",
          "data": {
            "text/html": [
              "<div>\n",
              "<style scoped>\n",
              "    .dataframe tbody tr th:only-of-type {\n",
              "        vertical-align: middle;\n",
              "    }\n",
              "\n",
              "    .dataframe tbody tr th {\n",
              "        vertical-align: top;\n",
              "    }\n",
              "\n",
              "    .dataframe thead th {\n",
              "        text-align: right;\n",
              "    }\n",
              "</style>\n",
              "<table border=\"1\" class=\"dataframe\">\n",
              "  <thead>\n",
              "    <tr style=\"text-align: right;\">\n",
              "      <th></th>\n",
              "      <th>gender_Male</th>\n",
              "      <th>gender_Other</th>\n",
              "      <th>smoking history_current</th>\n",
              "      <th>smoking history_ever</th>\n",
              "      <th>smoking history_former</th>\n",
              "      <th>smoking history_never</th>\n",
              "      <th>smoking history_not current</th>\n",
              "      <th>age</th>\n",
              "      <th>diabetes</th>\n",
              "      <th>hypertension</th>\n",
              "      <th>...</th>\n",
              "      <th>BMI</th>\n",
              "      <th>diabetes &amp; hypertension</th>\n",
              "      <th>diabetes &amp; srtoke</th>\n",
              "      <th>diabetes &amp; heart disease</th>\n",
              "      <th>hypertension &amp; stroke</th>\n",
              "      <th>hypertension &amp; heart disease</th>\n",
              "      <th>stroke &amp; heart disease</th>\n",
              "      <th>diabetes,hypertension,stroke</th>\n",
              "      <th>diabetes,hypertension,heart disease</th>\n",
              "      <th>hypertension,stroke,heart disease</th>\n",
              "    </tr>\n",
              "  </thead>\n",
              "  <tbody>\n",
              "    <tr>\n",
              "      <th>0</th>\n",
              "      <td>0.0</td>\n",
              "      <td>0.0</td>\n",
              "      <td>0.0</td>\n",
              "      <td>0.0</td>\n",
              "      <td>0.0</td>\n",
              "      <td>1.0</td>\n",
              "      <td>0.0</td>\n",
              "      <td>80.0</td>\n",
              "      <td>0.0</td>\n",
              "      <td>0.0</td>\n",
              "      <td>...</td>\n",
              "      <td>25.190000</td>\n",
              "      <td>0.0</td>\n",
              "      <td>0.0</td>\n",
              "      <td>0.0</td>\n",
              "      <td>0.0</td>\n",
              "      <td>0.0</td>\n",
              "      <td>0.0</td>\n",
              "      <td>0.0</td>\n",
              "      <td>0.0</td>\n",
              "      <td>0.0</td>\n",
              "    </tr>\n",
              "    <tr>\n",
              "      <th>1</th>\n",
              "      <td>0.0</td>\n",
              "      <td>0.0</td>\n",
              "      <td>0.0</td>\n",
              "      <td>0.0</td>\n",
              "      <td>0.0</td>\n",
              "      <td>0.0</td>\n",
              "      <td>0.0</td>\n",
              "      <td>54.0</td>\n",
              "      <td>0.0</td>\n",
              "      <td>0.0</td>\n",
              "      <td>...</td>\n",
              "      <td>18.982447</td>\n",
              "      <td>0.0</td>\n",
              "      <td>0.0</td>\n",
              "      <td>0.0</td>\n",
              "      <td>0.0</td>\n",
              "      <td>0.0</td>\n",
              "      <td>0.0</td>\n",
              "      <td>0.0</td>\n",
              "      <td>0.0</td>\n",
              "      <td>0.0</td>\n",
              "    </tr>\n",
              "    <tr>\n",
              "      <th>2</th>\n",
              "      <td>1.0</td>\n",
              "      <td>0.0</td>\n",
              "      <td>0.0</td>\n",
              "      <td>0.0</td>\n",
              "      <td>0.0</td>\n",
              "      <td>1.0</td>\n",
              "      <td>0.0</td>\n",
              "      <td>28.0</td>\n",
              "      <td>0.0</td>\n",
              "      <td>0.0</td>\n",
              "      <td>...</td>\n",
              "      <td>27.603525</td>\n",
              "      <td>0.0</td>\n",
              "      <td>0.0</td>\n",
              "      <td>0.0</td>\n",
              "      <td>0.0</td>\n",
              "      <td>0.0</td>\n",
              "      <td>0.0</td>\n",
              "      <td>0.0</td>\n",
              "      <td>0.0</td>\n",
              "      <td>0.0</td>\n",
              "    </tr>\n",
              "    <tr>\n",
              "      <th>3</th>\n",
              "      <td>0.0</td>\n",
              "      <td>0.0</td>\n",
              "      <td>1.0</td>\n",
              "      <td>0.0</td>\n",
              "      <td>0.0</td>\n",
              "      <td>0.0</td>\n",
              "      <td>0.0</td>\n",
              "      <td>36.0</td>\n",
              "      <td>0.0</td>\n",
              "      <td>0.0</td>\n",
              "      <td>...</td>\n",
              "      <td>23.450000</td>\n",
              "      <td>0.0</td>\n",
              "      <td>0.0</td>\n",
              "      <td>0.0</td>\n",
              "      <td>0.0</td>\n",
              "      <td>0.0</td>\n",
              "      <td>0.0</td>\n",
              "      <td>0.0</td>\n",
              "      <td>0.0</td>\n",
              "      <td>0.0</td>\n",
              "    </tr>\n",
              "    <tr>\n",
              "      <th>4</th>\n",
              "      <td>1.0</td>\n",
              "      <td>0.0</td>\n",
              "      <td>1.0</td>\n",
              "      <td>0.0</td>\n",
              "      <td>0.0</td>\n",
              "      <td>0.0</td>\n",
              "      <td>0.0</td>\n",
              "      <td>76.0</td>\n",
              "      <td>0.0</td>\n",
              "      <td>1.0</td>\n",
              "      <td>...</td>\n",
              "      <td>20.140000</td>\n",
              "      <td>0.0</td>\n",
              "      <td>0.0</td>\n",
              "      <td>0.0</td>\n",
              "      <td>0.0</td>\n",
              "      <td>1.0</td>\n",
              "      <td>0.0</td>\n",
              "      <td>0.0</td>\n",
              "      <td>0.0</td>\n",
              "      <td>0.0</td>\n",
              "    </tr>\n",
              "  </tbody>\n",
              "</table>\n",
              "<p>5 rows × 22 columns</p>\n",
              "</div>"
            ],
            "text/plain": [
              "   gender_Male  gender_Other  smoking history_current  smoking history_ever  \\\n",
              "0          0.0           0.0                      0.0                   0.0   \n",
              "1          0.0           0.0                      0.0                   0.0   \n",
              "2          1.0           0.0                      0.0                   0.0   \n",
              "3          0.0           0.0                      1.0                   0.0   \n",
              "4          1.0           0.0                      1.0                   0.0   \n",
              "\n",
              "   smoking history_former  smoking history_never  smoking history_not current  \\\n",
              "0                     0.0                    1.0                          0.0   \n",
              "1                     0.0                    0.0                          0.0   \n",
              "2                     0.0                    1.0                          0.0   \n",
              "3                     0.0                    0.0                          0.0   \n",
              "4                     0.0                    0.0                          0.0   \n",
              "\n",
              "    age  diabetes  hypertension                ...                        BMI  \\\n",
              "0  80.0       0.0           0.0                ...                  25.190000   \n",
              "1  54.0       0.0           0.0                ...                  18.982447   \n",
              "2  28.0       0.0           0.0                ...                  27.603525   \n",
              "3  36.0       0.0           0.0                ...                  23.450000   \n",
              "4  76.0       0.0           1.0                ...                  20.140000   \n",
              "\n",
              "   diabetes & hypertension  diabetes & srtoke  diabetes & heart disease  \\\n",
              "0                      0.0                0.0                       0.0   \n",
              "1                      0.0                0.0                       0.0   \n",
              "2                      0.0                0.0                       0.0   \n",
              "3                      0.0                0.0                       0.0   \n",
              "4                      0.0                0.0                       0.0   \n",
              "\n",
              "   hypertension & stroke  hypertension & heart disease  \\\n",
              "0                    0.0                           0.0   \n",
              "1                    0.0                           0.0   \n",
              "2                    0.0                           0.0   \n",
              "3                    0.0                           0.0   \n",
              "4                    0.0                           1.0   \n",
              "\n",
              "   stroke & heart disease  diabetes,hypertension,stroke  \\\n",
              "0                     0.0                           0.0   \n",
              "1                     0.0                           0.0   \n",
              "2                     0.0                           0.0   \n",
              "3                     0.0                           0.0   \n",
              "4                     0.0                           0.0   \n",
              "\n",
              "   diabetes,hypertension,heart disease  hypertension,stroke,heart disease  \n",
              "0                                  0.0                                0.0  \n",
              "1                                  0.0                                0.0  \n",
              "2                                  0.0                                0.0  \n",
              "3                                  0.0                                0.0  \n",
              "4                                  0.0                                0.0  \n",
              "\n",
              "[5 rows x 22 columns]"
            ]
          },
          "metadata": {
            "tags": []
          },
          "execution_count": 25
        }
      ]
    },
    {
      "metadata": {
        "_uuid": "a623bb6a5fc0554d4790e63abeba24d9d5eb14b1",
        "id": "hM8DpaGnVtPM",
        "colab_type": "code",
        "colab": {}
      },
      "cell_type": "code",
      "source": [
        "import seaborn as sns\n",
        "import matplotlib.pyplot as plt"
      ],
      "execution_count": 0,
      "outputs": []
    },
    {
      "metadata": {
        "_uuid": "74ff98dd952d869aa41cd8bcb9405eb6f0bfa6f6",
        "scrolled": true,
        "id": "7fY85cWIVtPX",
        "colab_type": "code",
        "colab": {
          "base_uri": "https://localhost:8080/",
          "height": 350
        },
        "outputId": "5bd2aa2f-5c3b-4c5d-ea6f-fcfea9b50fa0"
      },
      "cell_type": "code",
      "source": [
        "plt.hist(data['age'])"
      ],
      "execution_count": 29,
      "outputs": [
        {
          "output_type": "execute_result",
          "data": {
            "text/plain": [
              "(array([ 8981.,  7220.,  9684., 10368., 10619., 11669., 12136., 10755.,\n",
              "         7873., 10695.]),\n",
              " array([ 0.08 ,  8.072, 16.064, 24.056, 32.048, 40.04 , 48.032, 56.024,\n",
              "        64.016, 72.008, 80.   ]),\n",
              " <a list of 10 Patch objects>)"
            ]
          },
          "metadata": {
            "tags": []
          },
          "execution_count": 29
        },
        {
          "output_type": "display_data",
          "data": {
            "image/png": "[encoded data removed]",
            "text/plain": [
              "<Figure size 432x288 with 1 Axes>"
            ]
          },
          "metadata": {
            "tags": []
          }
        }
      ]
    },
    {
      "metadata": {
        "_uuid": "7a89255c073b966b71b171dc3a72b4f94afe0c7d",
        "id": "VFb7hc82VtPg",
        "colab_type": "code",
        "colab": {
          "base_uri": "https://localhost:8080/",
          "height": 418
        },
        "outputId": "76ab3c16-43a1-40d3-ee78-8988fc917684"
      },
      "cell_type": "code",
      "source": [
        "plt.hist(data['BMI'])"
      ],
      "execution_count": 31,
      "outputs": [
        {
          "output_type": "stream",
          "text": [
            "/usr/local/lib/python3.6/dist-packages/numpy/lib/function_base.py:780: RuntimeWarning: invalid value encountered in greater_equal\n",
            "  keep = (tmp_a >= first_edge)\n",
            "/usr/local/lib/python3.6/dist-packages/numpy/lib/function_base.py:781: RuntimeWarning: invalid value encountered in less_equal\n",
            "  keep &= (tmp_a <= last_edge)\n"
          ],
          "name": "stderr"
        },
        {
          "output_type": "execute_result",
          "data": {
            "text/plain": [
              "(array([8.6570e+03, 3.1394e+04, 2.4929e+04, 7.3890e+03, 1.7160e+03,\n",
              "        3.7900e+02, 7.3000e+01, 8.0000e+00, 4.0000e+00, 7.0000e+00]),\n",
              " array([10.01 , 18.578, 27.146, 35.714, 44.282, 52.85 , 61.418, 69.986,\n",
              "        78.554, 87.122, 95.69 ]),\n",
              " <a list of 10 Patch objects>)"
            ]
          },
          "metadata": {
            "tags": []
          },
          "execution_count": 31
        },
        {
          "output_type": "display_data",
          "data": {
            "image/png": "[encoded data removed]",
            "text/plain": [
              "<Figure size 432x288 with 1 Axes>"
            ]
          },
          "metadata": {
            "tags": []
          }
        }
      ]
    },
    {
      "metadata": {
        "id": "6bqHACa6SAWY",
        "colab_type": "code",
        "outputId": "3877ebcc-0f38-4afc-e223-b1fd47298393",
        "colab": {
          "base_uri": "https://localhost:8080/",
          "height": 68
        }
      },
      "cell_type": "code",
      "source": [
        "data_complete_df['stroke'].value_counts()"
      ],
      "execution_count": 32,
      "outputs": [
        {
          "output_type": "execute_result",
          "data": {
            "text/plain": [
              "0.0    98574\n",
              "1.0     1426\n",
              "Name: stroke, dtype: int64"
            ]
          },
          "metadata": {
            "tags": []
          },
          "execution_count": 32
        }
      ]
    },
    {
      "metadata": {
        "id": "POgZyxduZ7zw",
        "colab_type": "code",
        "colab": {}
      },
      "cell_type": "code",
      "source": [
        "from imblearn.over_sampling import SMOTE\n",
        "from sklearn.model_selection import train_test_split"
      ],
      "execution_count": 0,
      "outputs": []
    },
    {
      "metadata": {
        "id": "z20QUZ07aDhT",
        "colab_type": "code",
        "colab": {}
      },
      "cell_type": "code",
      "source": [
        "x_train, x_test, y_train, y_test = train_test_split(data_complete_df.drop(['stroke'], axis= 1), \n",
        "                                                    data_complete_df['stroke'], test_size=0.3, random_state=11)"
      ],
      "execution_count": 0,
      "outputs": []
    },
    {
      "metadata": {
        "id": "jD4itUEa9ywU",
        "colab_type": "code",
        "colab": {}
      },
      "cell_type": "code",
      "source": [
        ""
      ],
      "execution_count": 0,
      "outputs": []
    },
    {
      "metadata": {
        "id": "V8AhA1BnpmRk",
        "colab_type": "text"
      },
      "cell_type": "markdown",
      "source": [
        "# ** Plotting**"
      ]
    },
    {
      "metadata": {
        "id": "hbupZJquYtzj",
        "colab_type": "code",
        "outputId": "e41fda41-8b43-4fef-ba99-65a13aa575ba",
        "colab": {
          "base_uri": "https://localhost:8080/",
          "height": 395
        }
      },
      "cell_type": "code",
      "source": [
        "total_records=len(data_complete_df)\n",
        "ax1 = sns.countplot(data=data_complete_df,x= data['smoking history'],hue=\"stroke\",palette=\"Set2\")\n",
        "    \n",
        "for p in ax1.patches:\n",
        "    height = p.get_height()\n",
        "    ax1.text(p.get_x()+p.get_width()/2.,\n",
        "    height + 3,\n",
        "    '{:1.2f}'.format(height/total_records,0),\n",
        "    ha=\"center\",rotation=0) "
      ],
      "execution_count": 23,
      "outputs": [
        {
          "output_type": "stream",
          "text": [
            "/usr/local/lib/python3.6/dist-packages/seaborn/categorical.py:1468: FutureWarning: remove_na is deprecated and is a private function. Do not use.\n",
            "  stat_data = remove_na(group_data[hue_mask])\n"
          ],
          "name": "stderr"
        },
        {
          "output_type": "display_data",
          "data": {
            "image/png": "[encoded data removed]",
            "text/plain": [
              "<Figure size 576x396 with 1 Axes>"
            ]
          },
          "metadata": {
            "tags": []
          }
        }
      ]
    },
    {
      "metadata": {
        "id": "H-f-FEpea70b",
        "colab_type": "code",
        "outputId": "3a65245d-43e1-46e6-df97-f910f9a4cd7f",
        "colab": {
          "base_uri": "https://localhost:8080/",
          "height": 85
        }
      },
      "cell_type": "code",
      "source": [
        "print(\"Number of Employees in X_train dataset: \", x_train.shape)\n",
        "print(\"Number of Employees in y_train dataset: \", y_train.shape)\n",
        "print(\"Number of Employees in X_test dataset: \", x_test.shape)\n",
        "print(\"Number of Employees in y_test dataset: \", y_test.shape)"
      ],
      "execution_count": 0,
      "outputs": [
        {
          "output_type": "stream",
          "text": [
            "Number of Employees in X_train dataset:  (70000, 21)\n",
            "Number of Employees in y_train dataset:  (70000,)\n",
            "Number of Employees in X_test dataset:  (30000, 21)\n",
            "Number of Employees in y_test dataset:  (30000,)\n"
          ],
          "name": "stdout"
        }
      ]
    },
    {
      "metadata": {
        "id": "S-4J2lY6bdUL",
        "colab_type": "code",
        "outputId": "2dc48a45-218a-49e5-9be8-3c22420fc96e",
        "colab": {
          "base_uri": "https://localhost:8080/",
          "height": 68
        }
      },
      "cell_type": "code",
      "source": [
        "print(\"Before OverSampling, counts of label '1': {}\".format(sum(y_train==1)))\n",
        "print(\"Before OverSampling, counts of label '0': {} \\n\".format(sum(y_train==0)))"
      ],
      "execution_count": 47,
      "outputs": [
        {
          "output_type": "stream",
          "text": [
            "Before OverSampling, counts of label '1': 993\n",
            "Before OverSampling, counts of label '0': 69007 \n",
            "\n"
          ],
          "name": "stdout"
        }
      ]
    },
    {
      "metadata": {
        "id": "fdI_ixSGdms0",
        "colab_type": "code",
        "colab": {}
      },
      "cell_type": "code",
      "source": [
        "sm = SMOTE(random_state= 2)"
      ],
      "execution_count": 0,
      "outputs": []
    },
    {
      "metadata": {
        "id": "C6y24Ch6eq2B",
        "colab_type": "code",
        "colab": {}
      },
      "cell_type": "code",
      "source": [
        "X_train_res, y_train_res = sm.fit_sample(x_train, y_train.ravel())"
      ],
      "execution_count": 0,
      "outputs": []
    },
    {
      "metadata": {
        "id": "8JCAafGDevRy",
        "colab_type": "code",
        "outputId": "b9fd4f05-a0cd-4d95-fc92-0d39e2cd6877",
        "colab": {
          "base_uri": "https://localhost:8080/",
          "height": 102
        }
      },
      "cell_type": "code",
      "source": [
        "print('After OverSampling, the shape of X_train: {}'.format(X_train_res.shape))\n",
        "print('After OverSampling, the shape of y_train: {} \\n'.format(y_train_res.shape))\n",
        "\n",
        "print(\"After OverSampling, counts of label '1': {}\".format(sum(y_train_res==1)))\n",
        "print(\"After OverSampling, counts of label '0': {}\".format(sum(y_train_res==0)))"
      ],
      "execution_count": 50,
      "outputs": [
        {
          "output_type": "stream",
          "text": [
            "After OverSampling, the shape of X_train: (138014, 21)\n",
            "After OverSampling, the shape of y_train: (138014,) \n",
            "\n",
            "After OverSampling, counts of label '1': 69007\n",
            "After OverSampling, counts of label '0': 69007\n"
          ],
          "name": "stdout"
        }
      ]
    },
    {
      "metadata": {
        "id": "WNvz84ZdwUGq",
        "colab_type": "text"
      },
      "cell_type": "markdown",
      "source": [
        "# ** Models on upsampled data**"
      ]
    },
    {
      "metadata": {
        "id": "zIXy9jFOX8Av",
        "colab_type": "code",
        "outputId": "b2ed5943-ee6f-43f8-c3e4-aff7c1929b0c",
        "colab": {
          "base_uri": "https://localhost:8080/",
          "height": 413
        }
      },
      "cell_type": "code",
      "source": [
        "models=[RandomForestClassifier(),AdaBoostClassifier(),BaggingClassifier(),LinearSVC(),\n",
        "        KNeighborsClassifier(), DecisionTreeClassifier(),LogisticRegression(), GradientBoostingClassifier(), XGBClassifier(),GaussianNB()]\n",
        "model_names=['RandomForestClassifier','AdaBoostClassifier','BaggingClassifier','LinearSVC',\n",
        "             'KNeighborsClassifier', 'DecisionTreeClassifier', 'LogisticRegression', \n",
        "             'GradientBoostingClassifier', 'XGBClassifier','GaussianNB']\n",
        "ROC_AUC_scores = []\n",
        "F1_score=[]\n",
        "mcc=[]\n",
        "\n",
        "d={}\n",
        "\n",
        "for model in range(len(models)):\n",
        "    clf = models[model]\n",
        "    clf.fit(X_train_res, y_train_res)\n",
        "    test_pred = clf.predict(x_test.as_matrix())\n",
        "    ROC_AUC_scores.append(roc_auc_score(y_test, test_pred))\n",
        "    F1_score.append(f1_score(y_test,test_pred))\n",
        "    mcc.append(matthews_corrcoef(y_test,test_pred))\n",
        "    \n",
        "d={'Modelling Algo':model_names, 'ROC_AUC_Scores': ROC_AUC_scores,'F1_Score':F1_score,'MCC':mcc}   \n",
        "df_models = pd.DataFrame(d)\n",
        "df_models"
      ],
      "execution_count": 51,
      "outputs": [
        {
          "output_type": "stream",
          "text": [
            "/usr/local/lib/python3.6/dist-packages/sklearn/preprocessing/label.py:151: DeprecationWarning: The truth value of an empty array is ambiguous. Returning False, but in future this will result in an error. Use `array.size > 0` to check that an array is not empty.\n",
            "  if diff:\n"
          ],
          "name": "stderr"
        },
        {
          "output_type": "execute_result",
          "data": {
            "text/html": [
              "<div>\n",
              "<style scoped>\n",
              "    .dataframe tbody tr th:only-of-type {\n",
              "        vertical-align: middle;\n",
              "    }\n",
              "\n",
              "    .dataframe tbody tr th {\n",
              "        vertical-align: top;\n",
              "    }\n",
              "\n",
              "    .dataframe thead th {\n",
              "        text-align: right;\n",
              "    }\n",
              "</style>\n",
              "<table border=\"1\" class=\"dataframe\">\n",
              "  <thead>\n",
              "    <tr style=\"text-align: right;\">\n",
              "      <th></th>\n",
              "      <th>F1_Score</th>\n",
              "      <th>MCC</th>\n",
              "      <th>Modelling Algo</th>\n",
              "      <th>ROC_AUC_Scores</th>\n",
              "    </tr>\n",
              "  </thead>\n",
              "  <tbody>\n",
              "    <tr>\n",
              "      <th>0</th>\n",
              "      <td>0.503415</td>\n",
              "      <td>0.501272</td>\n",
              "      <td>RandomForestClassifier</td>\n",
              "      <td>0.792273</td>\n",
              "    </tr>\n",
              "    <tr>\n",
              "      <th>1</th>\n",
              "      <td>0.345544</td>\n",
              "      <td>0.392546</td>\n",
              "      <td>AdaBoostClassifier</td>\n",
              "      <td>0.846632</td>\n",
              "    </tr>\n",
              "    <tr>\n",
              "      <th>2</th>\n",
              "      <td>0.484449</td>\n",
              "      <td>0.484024</td>\n",
              "      <td>BaggingClassifier</td>\n",
              "      <td>0.790493</td>\n",
              "    </tr>\n",
              "    <tr>\n",
              "      <th>3</th>\n",
              "      <td>0.709389</td>\n",
              "      <td>0.738953</td>\n",
              "      <td>LinearSVC</td>\n",
              "      <td>0.774827</td>\n",
              "    </tr>\n",
              "    <tr>\n",
              "      <th>4</th>\n",
              "      <td>0.169550</td>\n",
              "      <td>0.194793</td>\n",
              "      <td>KNeighborsClassifier</td>\n",
              "      <td>0.697867</td>\n",
              "    </tr>\n",
              "    <tr>\n",
              "      <th>5</th>\n",
              "      <td>0.454308</td>\n",
              "      <td>0.458983</td>\n",
              "      <td>DecisionTreeClassifier</td>\n",
              "      <td>0.793691</td>\n",
              "    </tr>\n",
              "    <tr>\n",
              "      <th>6</th>\n",
              "      <td>0.176083</td>\n",
              "      <td>0.267550</td>\n",
              "      <td>LogisticRegression</td>\n",
              "      <td>0.873681</td>\n",
              "    </tr>\n",
              "    <tr>\n",
              "      <th>7</th>\n",
              "      <td>0.377736</td>\n",
              "      <td>0.412360</td>\n",
              "      <td>GradientBoostingClassifier</td>\n",
              "      <td>0.834119</td>\n",
              "    </tr>\n",
              "    <tr>\n",
              "      <th>8</th>\n",
              "      <td>0.333691</td>\n",
              "      <td>0.380734</td>\n",
              "      <td>XGBClassifier</td>\n",
              "      <td>0.840182</td>\n",
              "    </tr>\n",
              "    <tr>\n",
              "      <th>9</th>\n",
              "      <td>0.405451</td>\n",
              "      <td>0.409302</td>\n",
              "      <td>GaussianNB</td>\n",
              "      <td>0.766321</td>\n",
              "    </tr>\n",
              "  </tbody>\n",
              "</table>\n",
              "</div>"
            ],
            "text/plain": [
              "   F1_Score       MCC              Modelling Algo  ROC_AUC_Scores\n",
              "0  0.503415  0.501272      RandomForestClassifier        0.792273\n",
              "1  0.345544  0.392546          AdaBoostClassifier        0.846632\n",
              "2  0.484449  0.484024           BaggingClassifier        0.790493\n",
              "3  0.709389  0.738953                   LinearSVC        0.774827\n",
              "4  0.169550  0.194793        KNeighborsClassifier        0.697867\n",
              "5  0.454308  0.458983      DecisionTreeClassifier        0.793691\n",
              "6  0.176083  0.267550          LogisticRegression        0.873681\n",
              "7  0.377736  0.412360  GradientBoostingClassifier        0.834119\n",
              "8  0.333691  0.380734               XGBClassifier        0.840182\n",
              "9  0.405451  0.409302                  GaussianNB        0.766321"
            ]
          },
          "metadata": {
            "tags": []
          },
          "execution_count": 51
        }
      ]
    },
    {
      "metadata": {
        "id": "h-R1pCrCn4En",
        "colab_type": "code",
        "outputId": "0ec9cedc-509d-4cff-b2a0-a5b72e9a227e",
        "colab": {
          "base_uri": "https://localhost:8080/",
          "height": 416
        }
      },
      "cell_type": "code",
      "source": [
        "import seaborn as sns\n",
        "sns.factorplot(y='Modelling Algo', x='ROC_AUC_Scores', data= df_models, kind = 'bar', size=5, aspect=2)"
      ],
      "execution_count": 0,
      "outputs": [
        {
          "output_type": "stream",
          "text": [
            "/usr/local/lib/python3.6/dist-packages/seaborn/categorical.py:1428: FutureWarning: remove_na is deprecated and is a private function. Do not use.\n",
            "  stat_data = remove_na(group_data)\n"
          ],
          "name": "stderr"
        },
        {
          "output_type": "execute_result",
          "data": {
            "text/plain": [
              "<seaborn.axisgrid.FacetGrid at 0x7fee2c09e668>"
            ]
          },
          "metadata": {
            "tags": []
          },
          "execution_count": 29
        },
        {
          "output_type": "display_data",
          "data": {
            "image/png": "[encoded data removed]",
            "text/plain": [
              "<Figure size 720x360 with 1 Axes>"
            ]
          },
          "metadata": {
            "tags": []
          }
        }
      ]
    },
    {
      "metadata": {
        "id": "mv_2ZLDcur8e",
        "colab_type": "text"
      },
      "cell_type": "markdown",
      "source": [
        "**1) Logistic Regression\n",
        "2) AdaBoost\n",
        "3) XGBoost\n",
        "4) Gradient Boost\n",
        "5) SVM** "
      ]
    },
    {
      "metadata": {
        "id": "mfZDcd3eU_8o",
        "colab_type": "text"
      },
      "cell_type": "markdown",
      "source": [
        "# Neural Network"
      ]
    },
    {
      "metadata": {
        "id": "daENpDtZUzYT",
        "colab_type": "code",
        "colab": {}
      },
      "cell_type": "code",
      "source": [
        "from keras.layers import Dense,Input,BatchNormalization,Dropout\n",
        "from keras.models import Model,K, Sequential\n",
        "from keras.optimizers import SGD, rmsprop"
      ],
      "execution_count": 0,
      "outputs": []
    },
    {
      "metadata": {
        "id": "phUXzu59UzOG",
        "colab_type": "code",
        "colab": {}
      },
      "cell_type": "code",
      "source": [
        ""
      ],
      "execution_count": 0,
      "outputs": []
    },
    {
      "metadata": {
        "id": "A4ACgQdz_zCm",
        "colab_type": "code",
        "colab": {}
      },
      "cell_type": "code",
      "source": [
        ""
      ],
      "execution_count": 0,
      "outputs": []
    },
    {
      "metadata": {
        "id": "vFUDhB7F_yy3",
        "colab_type": "code",
        "colab": {}
      },
      "cell_type": "code",
      "source": [
        "K.clear_session()\n",
        "def build_model():\n",
        "  classifier = Sequential()\n",
        "  classifier.add(Dense(output_dim=12,input_dim=21,init='uniform',activation='relu'))\n",
        "  classifier.add(Dropout(rate=0.01))\n",
        "  classifier.add(Dense(output_dim=12,input_dim=21,init='uniform',activation='relu'))\n",
        "  classifier.add(Dropout(rate=0.01))\n",
        "  classifier.add(Dense(output_dim=1,input_dim=21,init='uniform',activation='sigmoid'))\n",
        "  classifier.compile(optimizer='adam',loss='binary_crossentropy',metrics=[auc])\n",
        "  return classifier"
      ],
      "execution_count": 0,
      "outputs": []
    },
    {
      "metadata": {
        "id": "dlUIDLc5PFYW",
        "colab_type": "code",
        "outputId": "4fdd3f0d-8c90-4f6a-cdef-b16748c2514e",
        "colab": {
          "base_uri": "https://localhost:8080/",
          "height": 163
        }
      },
      "cell_type": "code",
      "source": [
        "classifier.summary()"
      ],
      "execution_count": 0,
      "outputs": [
        {
          "output_type": "error",
          "ename": "NameError",
          "evalue": "ignored",
          "traceback": [
            "\u001b[0;31m---------------------------------------------------------------------------\u001b[0m",
            "\u001b[0;31mNameError\u001b[0m                                 Traceback (most recent call last)",
            "\u001b[0;32m<ipython-input-32-720ff4421f43>\u001b[0m in \u001b[0;36m<module>\u001b[0;34m()\u001b[0m\n\u001b[0;32m----> 1\u001b[0;31m \u001b[0mclassifier\u001b[0m\u001b[0;34m.\u001b[0m\u001b[0msummary\u001b[0m\u001b[0;34m(\u001b[0m\u001b[0;34m)\u001b[0m\u001b[0;34m\u001b[0m\u001b[0;34m\u001b[0m\u001b[0m\n\u001b[0m",
            "\u001b[0;31mNameError\u001b[0m: name 'classifier' is not defined"
          ]
        }
      ]
    },
    {
      "metadata": {
        "id": "DATc6gx6Nj5X",
        "colab_type": "code",
        "colab": {}
      },
      "cell_type": "code",
      "source": [
        "import tensorflow as tf\n",
        "from keras import backend as K\n",
        "\n",
        "def auc(y_test,y_pred_keras):\n",
        "    auc = tf.metrics.auc(y_test, y_pred_keras)[1]\n",
        "    K.get_session().run(tf.local_variables_initializer())\n",
        "    return auc"
      ],
      "execution_count": 0,
      "outputs": []
    },
    {
      "metadata": {
        "id": "fCKRb6fFWHDf",
        "colab_type": "code",
        "outputId": "ce9d81ec-f24f-4c9f-ff2b-a2593ed67609",
        "colab": {
          "base_uri": "https://localhost:8080/",
          "height": 3573
        }
      },
      "cell_type": "code",
      "source": [
        "from keras.wrappers.scikit_learn import KerasClassifier\n",
        "keras_model = build_model()\n",
        "keras_model.fit(X_train_res, y_train_res, epochs=100, batch_size=100,verbose=1,validation_split=0.3)"
      ],
      "execution_count": 0,
      "outputs": [
        {
          "output_type": "stream",
          "text": [
            "/usr/local/lib/python3.6/dist-packages/ipykernel_launcher.py:4: UserWarning: Update your `Dense` call to the Keras 2 API: `Dense(input_dim=21, activation=\"relu\", units=12, kernel_initializer=\"uniform\")`\n",
            "  after removing the cwd from sys.path.\n",
            "/usr/local/lib/python3.6/dist-packages/ipykernel_launcher.py:6: UserWarning: Update your `Dense` call to the Keras 2 API: `Dense(input_dim=21, activation=\"relu\", units=12, kernel_initializer=\"uniform\")`\n",
            "  \n",
            "/usr/local/lib/python3.6/dist-packages/ipykernel_launcher.py:8: UserWarning: Update your `Dense` call to the Keras 2 API: `Dense(input_dim=21, activation=\"sigmoid\", units=1, kernel_initializer=\"uniform\")`\n",
            "  \n"
          ],
          "name": "stderr"
        },
        {
          "output_type": "stream",
          "text": [
            "Train on 96609 samples, validate on 41405 samples\n",
            "Epoch 1/100\n",
            "96609/96609 [==============================] - 3s 32us/step - loss: 0.4250 - auc: 0.7329 - val_loss: 0.6082 - val_auc: 0.8567\n",
            "Epoch 2/100\n",
            "96609/96609 [==============================] - 3s 28us/step - loss: 0.2702 - auc: 0.8850 - val_loss: 0.6503 - val_auc: 0.8982\n",
            "Epoch 3/100\n",
            "96609/96609 [==============================] - 3s 29us/step - loss: 0.2481 - auc: 0.9051 - val_loss: 0.3675 - val_auc: 0.9167\n",
            "Epoch 4/100\n",
            "96609/96609 [==============================] - 3s 29us/step - loss: 0.2416 - auc: 0.9242 - val_loss: 0.3623 - val_auc: 0.9297\n",
            "Epoch 5/100\n",
            "96609/96609 [==============================] - 3s 29us/step - loss: 0.2355 - auc: 0.9339 - val_loss: 0.4246 - val_auc: 0.9365\n",
            "Epoch 6/100\n",
            "96609/96609 [==============================] - 3s 29us/step - loss: 0.2295 - auc: 0.9387 - val_loss: 0.4792 - val_auc: 0.9400\n",
            "Epoch 7/100\n",
            "96609/96609 [==============================] - 3s 29us/step - loss: 0.2235 - auc: 0.9412 - val_loss: 0.3070 - val_auc: 0.9434\n",
            "Epoch 8/100\n",
            "96609/96609 [==============================] - 3s 29us/step - loss: 0.2194 - auc: 0.9453 - val_loss: 0.4553 - val_auc: 0.9461\n",
            "Epoch 9/100\n",
            "96609/96609 [==============================] - 3s 29us/step - loss: 0.2146 - auc: 0.9468 - val_loss: 0.4235 - val_auc: 0.9477\n",
            "Epoch 10/100\n",
            "96609/96609 [==============================] - 3s 28us/step - loss: 0.2074 - auc: 0.9486 - val_loss: 0.4040 - val_auc: 0.9495\n",
            "Epoch 11/100\n",
            "96609/96609 [==============================] - 3s 29us/step - loss: 0.2000 - auc: 0.9504 - val_loss: 0.4257 - val_auc: 0.9510\n",
            "Epoch 12/100\n",
            "96609/96609 [==============================] - 3s 29us/step - loss: 0.1937 - auc: 0.9517 - val_loss: 0.4046 - val_auc: 0.9524\n",
            "Epoch 13/100\n",
            "96609/96609 [==============================] - 3s 29us/step - loss: 0.1889 - auc: 0.9531 - val_loss: 0.3375 - val_auc: 0.9540\n",
            "Epoch 14/100\n",
            "96609/96609 [==============================] - 3s 29us/step - loss: 0.1859 - auc: 0.9548 - val_loss: 0.4125 - val_auc: 0.9553\n",
            "Epoch 15/100\n",
            "96609/96609 [==============================] - 3s 29us/step - loss: 0.1821 - auc: 0.9558 - val_loss: 0.3336 - val_auc: 0.9565\n",
            "Epoch 16/100\n",
            "96609/96609 [==============================] - 3s 28us/step - loss: 0.1815 - auc: 0.9572 - val_loss: 0.3096 - val_auc: 0.9578\n",
            "Epoch 17/100\n",
            "96609/96609 [==============================] - 3s 28us/step - loss: 0.1781 - auc: 0.9585 - val_loss: 0.5004 - val_auc: 0.9586\n",
            "Epoch 18/100\n",
            "96609/96609 [==============================] - 3s 29us/step - loss: 0.1779 - auc: 0.9588 - val_loss: 0.2646 - val_auc: 0.9594\n",
            "Epoch 19/100\n",
            "96609/96609 [==============================] - 3s 29us/step - loss: 0.1776 - auc: 0.9600 - val_loss: 0.3512 - val_auc: 0.9604\n",
            "Epoch 20/100\n",
            "96609/96609 [==============================] - 3s 29us/step - loss: 0.1752 - auc: 0.9608 - val_loss: 0.2903 - val_auc: 0.9613\n",
            "Epoch 21/100\n",
            "96609/96609 [==============================] - 3s 29us/step - loss: 0.1737 - auc: 0.9617 - val_loss: 0.3414 - val_auc: 0.9621\n",
            "Epoch 22/100\n",
            "96609/96609 [==============================] - 3s 29us/step - loss: 0.1718 - auc: 0.9624 - val_loss: 0.5229 - val_auc: 0.9625\n",
            "Epoch 23/100\n",
            "96609/96609 [==============================] - 3s 29us/step - loss: 0.1708 - auc: 0.9625 - val_loss: 0.3223 - val_auc: 0.9628\n",
            "Epoch 24/100\n",
            "96609/96609 [==============================] - 3s 29us/step - loss: 0.1695 - auc: 0.9631 - val_loss: 0.3771 - val_auc: 0.9634\n",
            "Epoch 25/100\n",
            "96609/96609 [==============================] - 3s 29us/step - loss: 0.1672 - auc: 0.9636 - val_loss: 0.5065 - val_auc: 0.9636\n",
            "Epoch 26/100\n",
            "96609/96609 [==============================] - 3s 29us/step - loss: 0.1668 - auc: 0.9637 - val_loss: 0.4073 - val_auc: 0.9639\n",
            "Epoch 27/100\n",
            "96609/96609 [==============================] - 3s 29us/step - loss: 0.1642 - auc: 0.9640 - val_loss: 0.2828 - val_auc: 0.9644\n",
            "Epoch 28/100\n",
            "96609/96609 [==============================] - 3s 29us/step - loss: 0.1637 - auc: 0.9647 - val_loss: 0.2745 - val_auc: 0.9650\n",
            "Epoch 29/100\n",
            "96609/96609 [==============================] - 3s 29us/step - loss: 0.1641 - auc: 0.9653 - val_loss: 0.2371 - val_auc: 0.9657\n",
            "Epoch 30/100\n",
            "96609/96609 [==============================] - 3s 28us/step - loss: 0.1633 - auc: 0.9660 - val_loss: 0.3418 - val_auc: 0.9662\n",
            "Epoch 31/100\n",
            "96609/96609 [==============================] - 3s 29us/step - loss: 0.1618 - auc: 0.9664 - val_loss: 0.3974 - val_auc: 0.9665\n",
            "Epoch 32/100\n",
            "96609/96609 [==============================] - 3s 28us/step - loss: 0.1620 - auc: 0.9666 - val_loss: 0.3325 - val_auc: 0.9668\n",
            "Epoch 33/100\n",
            "96609/96609 [==============================] - 3s 29us/step - loss: 0.1610 - auc: 0.9670 - val_loss: 0.2388 - val_auc: 0.9673\n",
            "Epoch 34/100\n",
            "96609/96609 [==============================] - 3s 29us/step - loss: 0.1617 - auc: 0.9675 - val_loss: 0.2305 - val_auc: 0.9678\n",
            "Epoch 35/100\n",
            "96609/96609 [==============================] - 3s 28us/step - loss: 0.1600 - auc: 0.9680 - val_loss: 0.2777 - val_auc: 0.9682\n",
            "Epoch 36/100\n",
            "96609/96609 [==============================] - 3s 29us/step - loss: 0.1609 - auc: 0.9684 - val_loss: 0.2944 - val_auc: 0.9686\n",
            "Epoch 37/100\n",
            "96609/96609 [==============================] - 3s 29us/step - loss: 0.1597 - auc: 0.9688 - val_loss: 0.2506 - val_auc: 0.9690\n",
            "Epoch 38/100\n",
            "96609/96609 [==============================] - 3s 28us/step - loss: 0.1593 - auc: 0.9692 - val_loss: 0.2532 - val_auc: 0.9693\n",
            "Epoch 39/100\n",
            "96609/96609 [==============================] - 3s 29us/step - loss: 0.1580 - auc: 0.9695 - val_loss: 0.3611 - val_auc: 0.9696\n",
            "Epoch 40/100\n",
            "96609/96609 [==============================] - 3s 28us/step - loss: 0.1585 - auc: 0.9697 - val_loss: 0.5415 - val_auc: 0.9696\n",
            "Epoch 41/100\n",
            "96609/96609 [==============================] - 3s 28us/step - loss: 0.1567 - auc: 0.9696 - val_loss: 0.3285 - val_auc: 0.9697\n",
            "Epoch 42/100\n",
            "96609/96609 [==============================] - 3s 28us/step - loss: 0.1583 - auc: 0.9698 - val_loss: 0.2507 - val_auc: 0.9699\n",
            "Epoch 43/100\n",
            "96609/96609 [==============================] - 3s 29us/step - loss: 0.1576 - auc: 0.9701 - val_loss: 0.3225 - val_auc: 0.9702\n",
            "Epoch 44/100\n",
            "96609/96609 [==============================] - 3s 29us/step - loss: 0.1556 - auc: 0.9703 - val_loss: 0.2700 - val_auc: 0.9704\n",
            "Epoch 45/100\n",
            "96609/96609 [==============================] - 3s 29us/step - loss: 0.1554 - auc: 0.9706 - val_loss: 0.2570 - val_auc: 0.9707\n",
            "Epoch 46/100\n",
            "96609/96609 [==============================] - 3s 29us/step - loss: 0.1549 - auc: 0.9709 - val_loss: 0.2835 - val_auc: 0.9710\n",
            "Epoch 47/100\n",
            "96609/96609 [==============================] - 3s 29us/step - loss: 0.1561 - auc: 0.9711 - val_loss: 0.1964 - val_auc: 0.9713\n",
            "Epoch 48/100\n",
            "96609/96609 [==============================] - 3s 29us/step - loss: 0.1550 - auc: 0.9714 - val_loss: 0.2097 - val_auc: 0.9716\n",
            "Epoch 49/100\n",
            "96609/96609 [==============================] - 3s 28us/step - loss: 0.1558 - auc: 0.9718 - val_loss: 0.4729 - val_auc: 0.9717\n",
            "Epoch 50/100\n",
            "96609/96609 [==============================] - 3s 28us/step - loss: 0.1536 - auc: 0.9717 - val_loss: 0.1855 - val_auc: 0.9719\n",
            "Epoch 51/100\n",
            "96609/96609 [==============================] - 3s 29us/step - loss: 0.1544 - auc: 0.9720 - val_loss: 0.2287 - val_auc: 0.9722\n",
            "Epoch 52/100\n",
            "96609/96609 [==============================] - 3s 29us/step - loss: 0.1545 - auc: 0.9723 - val_loss: 0.3269 - val_auc: 0.9723\n",
            "Epoch 53/100\n",
            "96609/96609 [==============================] - 3s 29us/step - loss: 0.1550 - auc: 0.9724 - val_loss: 0.2516 - val_auc: 0.9725\n",
            "Epoch 54/100\n",
            "96609/96609 [==============================] - 3s 30us/step - loss: 0.1543 - auc: 0.9726 - val_loss: 0.3659 - val_auc: 0.9726\n",
            "Epoch 55/100\n",
            "96609/96609 [==============================] - 3s 30us/step - loss: 0.1525 - auc: 0.9727 - val_loss: 0.2289 - val_auc: 0.9728\n",
            "Epoch 56/100\n",
            "96609/96609 [==============================] - 3s 30us/step - loss: 0.1526 - auc: 0.9729 - val_loss: 0.3139 - val_auc: 0.9730\n",
            "Epoch 57/100\n",
            "96609/96609 [==============================] - 3s 29us/step - loss: 0.1547 - auc: 0.9730 - val_loss: 0.3422 - val_auc: 0.9731\n",
            "Epoch 58/100\n",
            "96609/96609 [==============================] - 3s 29us/step - loss: 0.1545 - auc: 0.9731 - val_loss: 0.2446 - val_auc: 0.9732\n",
            "Epoch 59/100\n",
            "96609/96609 [==============================] - 3s 29us/step - loss: 0.1525 - auc: 0.9733 - val_loss: 0.2023 - val_auc: 0.9734\n",
            "Epoch 60/100\n",
            "96609/96609 [==============================] - 3s 29us/step - loss: 0.1537 - auc: 0.9735 - val_loss: 0.2713 - val_auc: 0.9736\n",
            "Epoch 61/100\n",
            "96609/96609 [==============================] - 3s 29us/step - loss: 0.1545 - auc: 0.9736 - val_loss: 0.2819 - val_auc: 0.9737\n",
            "Epoch 62/100\n",
            "96609/96609 [==============================] - 3s 29us/step - loss: 0.1539 - auc: 0.9738 - val_loss: 0.2603 - val_auc: 0.9739\n",
            "Epoch 63/100\n",
            "96609/96609 [==============================] - 3s 29us/step - loss: 0.1525 - auc: 0.9739 - val_loss: 0.2485 - val_auc: 0.9740\n",
            "Epoch 64/100\n",
            "96609/96609 [==============================] - 3s 28us/step - loss: 0.1524 - auc: 0.9741 - val_loss: 0.2845 - val_auc: 0.9741\n",
            "Epoch 65/100\n",
            "96609/96609 [==============================] - 3s 29us/step - loss: 0.1537 - auc: 0.9742 - val_loss: 0.2316 - val_auc: 0.9743\n",
            "Epoch 66/100\n",
            "96609/96609 [==============================] - 3s 29us/step - loss: 0.1529 - auc: 0.9744 - val_loss: 0.3094 - val_auc: 0.9744\n",
            "Epoch 67/100\n",
            "96609/96609 [==============================] - 3s 29us/step - loss: 0.1518 - auc: 0.9745 - val_loss: 0.2504 - val_auc: 0.9745\n",
            "Epoch 68/100\n",
            "96609/96609 [==============================] - 3s 29us/step - loss: 0.1518 - auc: 0.9746 - val_loss: 0.2032 - val_auc: 0.9747\n",
            "Epoch 69/100\n",
            "96609/96609 [==============================] - 3s 29us/step - loss: 0.1520 - auc: 0.9748 - val_loss: 0.2701 - val_auc: 0.9748\n",
            "Epoch 70/100\n",
            "96609/96609 [==============================] - 3s 28us/step - loss: 0.1522 - auc: 0.9749 - val_loss: 0.3290 - val_auc: 0.9749\n",
            "Epoch 71/100\n",
            "96609/96609 [==============================] - 3s 28us/step - loss: 0.1512 - auc: 0.9749 - val_loss: 0.3704 - val_auc: 0.9749\n",
            "Epoch 72/100\n",
            "96609/96609 [==============================] - 3s 29us/step - loss: 0.1523 - auc: 0.9750 - val_loss: 0.2335 - val_auc: 0.9750\n",
            "Epoch 73/100\n",
            "96609/96609 [==============================] - 3s 29us/step - loss: 0.1517 - auc: 0.9751 - val_loss: 0.2525 - val_auc: 0.9751\n",
            "Epoch 74/100\n",
            "96609/96609 [==============================] - 3s 28us/step - loss: 0.1514 - auc: 0.9752 - val_loss: 0.2333 - val_auc: 0.9753\n",
            "Epoch 75/100\n",
            "96609/96609 [==============================] - 3s 29us/step - loss: 0.1509 - auc: 0.9753 - val_loss: 0.2644 - val_auc: 0.9754\n",
            "Epoch 76/100\n",
            "96609/96609 [==============================] - 3s 28us/step - loss: 0.1515 - auc: 0.9754 - val_loss: 0.3580 - val_auc: 0.9754\n",
            "Epoch 77/100\n",
            "96609/96609 [==============================] - 3s 28us/step - loss: 0.1515 - auc: 0.9755 - val_loss: 0.3775 - val_auc: 0.9755\n",
            "Epoch 78/100\n",
            "96609/96609 [==============================] - 3s 28us/step - loss: 0.1505 - auc: 0.9755 - val_loss: 0.2572 - val_auc: 0.9755\n",
            "Epoch 79/100\n",
            "96609/96609 [==============================] - 3s 29us/step - loss: 0.1504 - auc: 0.9756 - val_loss: 0.3112 - val_auc: 0.9756\n",
            "Epoch 80/100\n",
            "96609/96609 [==============================] - 3s 29us/step - loss: 0.1494 - auc: 0.9756 - val_loss: 0.2347 - val_auc: 0.9757\n",
            "Epoch 81/100\n",
            "96609/96609 [==============================] - 3s 29us/step - loss: 0.1497 - auc: 0.9757 - val_loss: 0.3126 - val_auc: 0.9758\n",
            "Epoch 82/100\n",
            "96609/96609 [==============================] - 3s 29us/step - loss: 0.1506 - auc: 0.9758 - val_loss: 0.2491 - val_auc: 0.9758\n",
            "Epoch 83/100\n",
            "96609/96609 [==============================] - 3s 29us/step - loss: 0.1505 - auc: 0.9759 - val_loss: 0.2322 - val_auc: 0.9759\n",
            "Epoch 84/100\n",
            "96609/96609 [==============================] - 3s 29us/step - loss: 0.1491 - auc: 0.9760 - val_loss: 0.4347 - val_auc: 0.9760\n",
            "Epoch 85/100\n",
            "96609/96609 [==============================] - 3s 29us/step - loss: 0.1519 - auc: 0.9760 - val_loss: 0.4433 - val_auc: 0.9759\n",
            "Epoch 86/100\n",
            "96609/96609 [==============================] - 3s 28us/step - loss: 0.1493 - auc: 0.9759 - val_loss: 0.2442 - val_auc: 0.9760\n",
            "Epoch 87/100\n",
            "96609/96609 [==============================] - 3s 29us/step - loss: 0.1498 - auc: 0.9760 - val_loss: 0.2385 - val_auc: 0.9761\n",
            "Epoch 88/100\n",
            "96609/96609 [==============================] - 3s 29us/step - loss: 0.1498 - auc: 0.9761 - val_loss: 0.3393 - val_auc: 0.9761\n",
            "Epoch 89/100\n",
            "96609/96609 [==============================] - 3s 29us/step - loss: 0.1512 - auc: 0.9761 - val_loss: 0.2498 - val_auc: 0.9762\n",
            "Epoch 90/100\n",
            "96609/96609 [==============================] - 3s 29us/step - loss: 0.1495 - auc: 0.9762 - val_loss: 0.2700 - val_auc: 0.9763\n",
            "Epoch 91/100\n",
            "96609/96609 [==============================] - 3s 29us/step - loss: 0.1509 - auc: 0.9763 - val_loss: 0.2156 - val_auc: 0.9764\n",
            "Epoch 92/100\n",
            "96609/96609 [==============================] - 3s 29us/step - loss: 0.1505 - auc: 0.9764 - val_loss: 0.2814 - val_auc: 0.9764\n",
            "Epoch 93/100\n",
            "96609/96609 [==============================] - 3s 29us/step - loss: 0.1485 - auc: 0.9765 - val_loss: 0.2139 - val_auc: 0.9765\n",
            "Epoch 94/100\n",
            "96609/96609 [==============================] - 3s 28us/step - loss: 0.1485 - auc: 0.9766 - val_loss: 0.2969 - val_auc: 0.9766\n",
            "Epoch 95/100\n",
            "96609/96609 [==============================] - 3s 28us/step - loss: 0.1488 - auc: 0.9766 - val_loss: 0.3861 - val_auc: 0.9766\n",
            "Epoch 96/100\n",
            "96609/96609 [==============================] - 3s 29us/step - loss: 0.1479 - auc: 0.9766 - val_loss: 0.3081 - val_auc: 0.9766\n",
            "Epoch 97/100\n",
            "96609/96609 [==============================] - 3s 29us/step - loss: 0.1483 - auc: 0.9767 - val_loss: 0.3628 - val_auc: 0.9767\n",
            "Epoch 98/100\n",
            "96609/96609 [==============================] - 3s 29us/step - loss: 0.1496 - auc: 0.9767 - val_loss: 0.2391 - val_auc: 0.9767\n",
            "Epoch 99/100\n",
            "96609/96609 [==============================] - 3s 28us/step - loss: 0.1501 - auc: 0.9768 - val_loss: 0.3174 - val_auc: 0.9768\n",
            "Epoch 100/100\n",
            "96609/96609 [==============================] - 3s 28us/step - loss: 0.1482 - auc: 0.9768 - val_loss: 0.2716 - val_auc: 0.9768\n"
          ],
          "name": "stdout"
        },
        {
          "output_type": "execute_result",
          "data": {
            "text/plain": [
              "<keras.callbacks.History at 0x7fee259fc4a8>"
            ]
          },
          "metadata": {
            "tags": []
          },
          "execution_count": 35
        }
      ]
    },
    {
      "metadata": {
        "id": "rbf9bHHi_wr9",
        "colab_type": "code",
        "colab": {}
      },
      "cell_type": "code",
      "source": [
        "from sklearn.metrics import roc_curve\n",
        "y_pred_keras = keras_model.predict(x_test).ravel()\n",
        "fpr_keras, tpr_keras, thresholds_keras = roc_curve(y_test, y_pred_keras)"
      ],
      "execution_count": 0,
      "outputs": []
    },
    {
      "metadata": {
        "id": "3Dmx9mHUkVoY",
        "colab_type": "code",
        "colab": {}
      },
      "cell_type": "code",
      "source": [
        "auc_keras = auc(fpr_keras, tpr_keras)"
      ],
      "execution_count": 0,
      "outputs": []
    },
    {
      "metadata": {
        "id": "jWJ_uCjFpJ_H",
        "colab_type": "code",
        "outputId": "beb26647-dde7-498e-c671-2730487ee9a2",
        "colab": {
          "base_uri": "https://localhost:8080/",
          "height": 735
        }
      },
      "cell_type": "code",
      "source": [
        "plt.figure(1)\n",
        "plt.plot([0, 1], [0, 1], 'k--')\n",
        "plt.plot(fpr_keras, tpr_keras,label='ROC_AUC Curve')\n",
        "plt.xlabel('False positive rate')\n",
        "plt.ylabel('True positive rate')\n",
        "plt.title('ROC curve')\n",
        "plt.legend(loc='best')\n",
        "plt.show()\n",
        "# Zoom in view of the upper left corner.\n",
        "plt.figure(2)\n",
        "plt.xlim(0, 0.8)\n",
        "plt.ylim(0.7, 1)\n",
        "plt.plot([0, 1], [0, 1], 'k--')\n",
        "plt.plot(fpr_keras, tpr_keras,label='Zoomed curve')\n",
        "plt.xlabel('False positive rate')\n",
        "plt.ylabel('True positive rate')\n",
        "plt.title('ROC curve (zoomed in at top left)')\n",
        "plt.legend(loc='best')\n",
        "plt.show()"
      ],
      "execution_count": 0,
      "outputs": [
        {
          "output_type": "display_data",
          "data": {
            "image/png": "[encoded data removed]",
            "text/plain": [
              "<Figure size 576x396 with 1 Axes>"
            ]
          },
          "metadata": {
            "tags": []
          }
        },
        {
          "output_type": "display_data",
          "data": {
            "image/png": "[encoded data removed]",
            "text/plain": [
              "<Figure size 576x396 with 1 Axes>"
            ]
          },
          "metadata": {
            "tags": []
          }
        }
      ]
    },
    {
      "metadata": {
        "id": "iRRr1Xvtww6C",
        "colab_type": "text"
      },
      "cell_type": "markdown",
      "source": [
        "# Tuning"
      ]
    },
    {
      "metadata": {
        "colab_type": "code",
        "id": "F4XgYeu5n26t",
        "colab": {}
      },
      "cell_type": "code",
      "source": [
        "logic=LogisticRegression()\n",
        "adaboost=AdaBoostClassifier()\n",
        "xgboost=XGBClassifier()\n",
        "gboost=GradientBoostingClassifier()\n",
        "svm=LinearSVC()"
      ],
      "execution_count": 0,
      "outputs": []
    },
    {
      "metadata": {
        "colab_type": "code",
        "id": "iTUacrmZn2W6",
        "colab": {}
      },
      "cell_type": "code",
      "source": [
        "param_grid_logic={\"penalty\": ['l1', 'l2'], 'C': [0.001, 0.01, 0.1, 1, 10, 100, 1000]}\n",
        "param_grid_adaboost={'n_estimators':[50,100,200],'learning_rate':[0.0001,0.0003,0.0005]}\n",
        "param_grid_xgboost={'n_estimators':[50,100,200],'learning_rate':[0.001,0.01,0.05,0.1],'max_depth':[3,5,7,9]}\n",
        "param_grid_gboost={'n_estimators':[50,100,200],'learning_rate':[0.0001,0.0003,0.0005],'max_depth': [4, 6, 8,10]}\n",
        "param_grid_svm={'kernel':('linear', 'rbf'), 'C':[0.1,1,10]}\n"
      ],
      "execution_count": 0,
      "outputs": []
    },
    {
      "metadata": {
        "colab_type": "code",
        "id": "jrtbt5C7n2I_",
        "colab": {}
      },
      "cell_type": "code",
      "source": [
        "best_model_logic = GridSearchCV(estimator=logic,param_grid=param_grid_logic,scoring='roc_auc',n_jobs=-1,cv=5)\n",
        "best_model_adaboost = GridSearchCV(estimator=adaboost,param_grid=param_grid_adaboost,scoring='roc_auc',n_jobs=-1,cv=5)\n",
        "best_model_xgboost = GridSearchCV(estimator=xgboost,param_grid=param_grid_xgboost,scoring='roc_auc',n_jobs=-1,cv=5)\n",
        "best_model_gboost = GridSearchCV(estimator=gboost,param_grid=param_grid_gboost,scoring='roc_auc',n_jobs=-1,cv=5)\n",
        "best_model_svm = GridSearchCV(estimator=svm,param_grid=param_grid_svm,scoring='roc_auc',n_jobs=-1,cv=5)\n"
      ],
      "execution_count": 0,
      "outputs": []
    },
    {
      "metadata": {
        "id": "xNZdTgiMG1qO",
        "colab_type": "code",
        "outputId": "d06c8971-4174-4b35-8397-07bba8568366",
        "colab": {
          "base_uri": "https://localhost:8080/",
          "height": 258
        }
      },
      "cell_type": "code",
      "source": [
        "best_model_logic.fit(X_train_res,y_train_res)"
      ],
      "execution_count": 0,
      "outputs": [
        {
          "output_type": "stream",
          "text": [
            "/usr/local/lib/python3.6/dist-packages/sklearn/linear_model/logistic.py:433: FutureWarning: Default solver will be changed to 'lbfgs' in 0.22. Specify a solver to silence this warning.\n",
            "  FutureWarning)\n",
            "/usr/local/lib/python3.6/dist-packages/sklearn/svm/base.py:931: ConvergenceWarning: Liblinear failed to converge, increase the number of iterations.\n",
            "  \"the number of iterations.\", ConvergenceWarning)\n"
          ],
          "name": "stderr"
        },
        {
          "output_type": "execute_result",
          "data": {
            "text/plain": [
              "GridSearchCV(cv=5, error_score='raise-deprecating',\n",
              "       estimator=LogisticRegression(C=1.0, class_weight=None, dual=False, fit_intercept=True,\n",
              "          intercept_scaling=1, max_iter=100, multi_class='warn',\n",
              "          n_jobs=None, penalty='l2', random_state=None, solver='warn',\n",
              "          tol=0.0001, verbose=0, warm_start=False),\n",
              "       fit_params=None, iid='warn', n_jobs=-1,\n",
              "       param_grid={'penalty': ['l1', 'l2'], 'C': [0.001, 0.01, 0.1, 1, 10, 100, 1000]},\n",
              "       pre_dispatch='2*n_jobs', refit=True, return_train_score='warn',\n",
              "       scoring='roc_auc', verbose=0)"
            ]
          },
          "metadata": {
            "tags": []
          },
          "execution_count": 42
        }
      ]
    },
    {
      "metadata": {
        "id": "YgKUDmwdCvhW",
        "colab_type": "code",
        "outputId": "df74bf29-f9b8-47ee-f293-a33ff59f6a00",
        "colab": {
          "base_uri": "https://localhost:8080/",
          "height": 34
        }
      },
      "cell_type": "code",
      "source": [
        "best_model_logic.best_params_"
      ],
      "execution_count": 0,
      "outputs": [
        {
          "output_type": "execute_result",
          "data": {
            "text/plain": [
              "{'C': 10, 'penalty': 'l1'}"
            ]
          },
          "metadata": {
            "tags": []
          },
          "execution_count": 102
        }
      ]
    },
    {
      "metadata": {
        "id": "HyKH518YEAW3",
        "colab_type": "code",
        "outputId": "3f97b72e-84ae-49cc-e6ec-e3cd6a941814",
        "colab": {
          "base_uri": "https://localhost:8080/",
          "height": 224
        }
      },
      "cell_type": "code",
      "source": [
        "cross_val_score(best_model_logic.best_estimator_,X=X_train_res,y=y_train_res,cv=5)"
      ],
      "execution_count": 0,
      "outputs": [
        {
          "output_type": "stream",
          "text": [
            "/usr/local/lib/python3.6/dist-packages/sklearn/linear_model/logistic.py:433: FutureWarning: Default solver will be changed to 'lbfgs' in 0.22. Specify a solver to silence this warning.\n",
            "  FutureWarning)\n",
            "/usr/local/lib/python3.6/dist-packages/sklearn/linear_model/logistic.py:433: FutureWarning: Default solver will be changed to 'lbfgs' in 0.22. Specify a solver to silence this warning.\n",
            "  FutureWarning)\n",
            "/usr/local/lib/python3.6/dist-packages/sklearn/linear_model/logistic.py:433: FutureWarning: Default solver will be changed to 'lbfgs' in 0.22. Specify a solver to silence this warning.\n",
            "  FutureWarning)\n",
            "/usr/local/lib/python3.6/dist-packages/sklearn/linear_model/logistic.py:433: FutureWarning: Default solver will be changed to 'lbfgs' in 0.22. Specify a solver to silence this warning.\n",
            "  FutureWarning)\n",
            "/usr/local/lib/python3.6/dist-packages/sklearn/linear_model/logistic.py:433: FutureWarning: Default solver will be changed to 'lbfgs' in 0.22. Specify a solver to silence this warning.\n",
            "  FutureWarning)\n"
          ],
          "name": "stderr"
        },
        {
          "output_type": "execute_result",
          "data": {
            "text/plain": [
              "array([0.87773511, 0.87947399, 0.87932034, 0.87761756, 0.8826172 ])"
            ]
          },
          "metadata": {
            "tags": []
          },
          "execution_count": 103
        }
      ]
    },
    {
      "metadata": {
        "id": "Y1GXoi1AENGK",
        "colab_type": "code",
        "outputId": "23cc042f-e6d6-4d0c-8301-dfa1adf5eb9f",
        "colab": {
          "base_uri": "https://localhost:8080/",
          "height": 224
        }
      },
      "cell_type": "code",
      "source": [
        "cross_val_score(best_model_logic.best_estimator_,X=X_train_res,y=y_train_res,cv=5).mean()"
      ],
      "execution_count": 0,
      "outputs": [
        {
          "output_type": "stream",
          "text": [
            "/usr/local/lib/python3.6/dist-packages/sklearn/linear_model/logistic.py:433: FutureWarning: Default solver will be changed to 'lbfgs' in 0.22. Specify a solver to silence this warning.\n",
            "  FutureWarning)\n",
            "/usr/local/lib/python3.6/dist-packages/sklearn/linear_model/logistic.py:433: FutureWarning: Default solver will be changed to 'lbfgs' in 0.22. Specify a solver to silence this warning.\n",
            "  FutureWarning)\n",
            "/usr/local/lib/python3.6/dist-packages/sklearn/linear_model/logistic.py:433: FutureWarning: Default solver will be changed to 'lbfgs' in 0.22. Specify a solver to silence this warning.\n",
            "  FutureWarning)\n",
            "/usr/local/lib/python3.6/dist-packages/sklearn/linear_model/logistic.py:433: FutureWarning: Default solver will be changed to 'lbfgs' in 0.22. Specify a solver to silence this warning.\n",
            "  FutureWarning)\n",
            "/usr/local/lib/python3.6/dist-packages/sklearn/linear_model/logistic.py:433: FutureWarning: Default solver will be changed to 'lbfgs' in 0.22. Specify a solver to silence this warning.\n",
            "  FutureWarning)\n"
          ],
          "name": "stderr"
        },
        {
          "output_type": "execute_result",
          "data": {
            "text/plain": [
              "0.8793600868183447"
            ]
          },
          "metadata": {
            "tags": []
          },
          "execution_count": 104
        }
      ]
    },
    {
      "metadata": {
        "colab_type": "code",
        "id": "Gl2SPplSn132",
        "outputId": "ba005c04-ecdb-487f-9c8a-e03c093cab00",
        "colab": {
          "base_uri": "https://localhost:8080/",
          "height": 136
        }
      },
      "cell_type": "code",
      "source": [
        "best_model_adaboost.fit(X=X_train_res,y=y_train_res)"
      ],
      "execution_count": 0,
      "outputs": [
        {
          "output_type": "execute_result",
          "data": {
            "text/plain": [
              "GridSearchCV(cv=5, error_score='raise-deprecating',\n",
              "       estimator=AdaBoostClassifier(algorithm='SAMME.R', base_estimator=None,\n",
              "          learning_rate=1.0, n_estimators=50, random_state=None),\n",
              "       fit_params=None, iid='warn', n_jobs=-1,\n",
              "       param_grid={'n_estimators': [50, 100, 200], 'learning_rate': [0.0001, 0.0003, 0.0005]},\n",
              "       pre_dispatch='2*n_jobs', refit=True, return_train_score='warn',\n",
              "       scoring='roc_auc', verbose=0)"
            ]
          },
          "metadata": {
            "tags": []
          },
          "execution_count": 105
        }
      ]
    },
    {
      "metadata": {
        "id": "K3leS5qhYBlI",
        "colab_type": "code",
        "outputId": "f8567d70-087c-428c-8e72-6a94fe034c4d",
        "colab": {
          "base_uri": "https://localhost:8080/",
          "height": 34
        }
      },
      "cell_type": "code",
      "source": [
        "best_model_adaboost.best_params_"
      ],
      "execution_count": 0,
      "outputs": [
        {
          "output_type": "execute_result",
          "data": {
            "text/plain": [
              "{'learning_rate': 0.0005, 'n_estimators': 200}"
            ]
          },
          "metadata": {
            "tags": []
          },
          "execution_count": 106
        }
      ]
    },
    {
      "metadata": {
        "id": "2Xl_yk3LYE2r",
        "colab_type": "code",
        "outputId": "c6d04279-fcf3-4b4c-a4a9-a889f6540c0e",
        "colab": {
          "base_uri": "https://localhost:8080/",
          "height": 34
        }
      },
      "cell_type": "code",
      "source": [
        "cross_val_score(best_model_adaboost.best_estimator_,X=X_train_res,y=y_train_res,cv=5)"
      ],
      "execution_count": 0,
      "outputs": [
        {
          "output_type": "execute_result",
          "data": {
            "text/plain": [
              "array([0.77188089, 0.77140994, 0.77559597, 0.77447286, 0.77411057])"
            ]
          },
          "metadata": {
            "tags": []
          },
          "execution_count": 107
        }
      ]
    },
    {
      "metadata": {
        "id": "H2aflYZzYG4e",
        "colab_type": "code",
        "outputId": "fa2caca2-8b0b-493e-ff62-4935f5a757a5",
        "colab": {
          "base_uri": "https://localhost:8080/",
          "height": 34
        }
      },
      "cell_type": "code",
      "source": [
        "cross_val_score(best_model_adaboost.best_estimator_,X=X_train_res,y=y_train_res,cv=5).mean()"
      ],
      "execution_count": 0,
      "outputs": [
        {
          "output_type": "execute_result",
          "data": {
            "text/plain": [
              "0.7734940469411287"
            ]
          },
          "metadata": {
            "tags": []
          },
          "execution_count": 108
        }
      ]
    },
    {
      "metadata": {
        "id": "AxBVyucOEyc-",
        "colab_type": "code",
        "colab": {}
      },
      "cell_type": "code",
      "source": [
        ""
      ],
      "execution_count": 0,
      "outputs": []
    },
    {
      "metadata": {
        "id": "i1AH-5CoEyXy",
        "colab_type": "code",
        "colab": {}
      },
      "cell_type": "code",
      "source": [
        ""
      ],
      "execution_count": 0,
      "outputs": []
    },
    {
      "metadata": {
        "colab_type": "code",
        "id": "0B9r4pInEzxt",
        "colab": {}
      },
      "cell_type": "code",
      "source": [
        "best_model_xgboost.fit(X=X_train_res,y=y_train_res)"
      ],
      "execution_count": 0,
      "outputs": []
    },
    {
      "metadata": {
        "colab_type": "code",
        "id": "T91hHYDQEzx7",
        "colab": {}
      },
      "cell_type": "code",
      "source": [
        "best_model_xgboost.best_params_"
      ],
      "execution_count": 0,
      "outputs": []
    },
    {
      "metadata": {
        "colab_type": "code",
        "id": "hr7XRuTvEzyJ",
        "colab": {}
      },
      "cell_type": "code",
      "source": [
        "cross_val_score(best_model_xgboost.best_estimator_,X=X_train_res,y=y_train_res,cv=5)"
      ],
      "execution_count": 0,
      "outputs": []
    },
    {
      "metadata": {
        "colab_type": "code",
        "id": "KZYyc8XgEzyV",
        "colab": {}
      },
      "cell_type": "code",
      "source": [
        "cross_val_score(best_model_xgboost.best_estimator_,X=X_train_res,y=y_train_res,cv=5).mean()"
      ],
      "execution_count": 0,
      "outputs": []
    },
    {
      "metadata": {
        "id": "XU-iJsTDEyRY",
        "colab_type": "code",
        "colab": {}
      },
      "cell_type": "code",
      "source": [
        ""
      ],
      "execution_count": 0,
      "outputs": []
    },
    {
      "metadata": {
        "id": "UX7A-M_wEyJt",
        "colab_type": "code",
        "colab": {}
      },
      "cell_type": "code",
      "source": [
        ""
      ],
      "execution_count": 0,
      "outputs": []
    },
    {
      "metadata": {
        "colab_type": "code",
        "id": "IdmC_rPaE-6L",
        "colab": {}
      },
      "cell_type": "code",
      "source": [
        "best_model_gboost.fit(X=X_train_res,y=y_train_res)"
      ],
      "execution_count": 0,
      "outputs": []
    },
    {
      "metadata": {
        "colab_type": "code",
        "id": "5JGfzzGUE-6V",
        "colab": {}
      },
      "cell_type": "code",
      "source": [
        "best_model_gboost.best_params_"
      ],
      "execution_count": 0,
      "outputs": []
    },
    {
      "metadata": {
        "colab_type": "code",
        "id": "9lViFmooE-6m",
        "colab": {}
      },
      "cell_type": "code",
      "source": [
        "cross_val_score(best_model_gboost.best_estimator_,X=X_train_res,y=y_train_res,cv=5)"
      ],
      "execution_count": 0,
      "outputs": []
    },
    {
      "metadata": {
        "colab_type": "code",
        "id": "qIIUBhGnE-6v",
        "colab": {}
      },
      "cell_type": "code",
      "source": [
        "cross_val_score(best_model_gboost.best_estimator_,X=X_train_res,y=y_train_res,cv=5).mean()"
      ],
      "execution_count": 0,
      "outputs": []
    },
    {
      "metadata": {
        "id": "S7Pc0F4xEyA2",
        "colab_type": "code",
        "colab": {}
      },
      "cell_type": "code",
      "source": [
        ""
      ],
      "execution_count": 0,
      "outputs": []
    },
    {
      "metadata": {
        "colab_type": "code",
        "id": "kb_HFYFQFNoe",
        "colab": {}
      },
      "cell_type": "code",
      "source": [
        "best_model_svm.fit(X=X_train_res,y=y_train_res)"
      ],
      "execution_count": 0,
      "outputs": []
    },
    {
      "metadata": {
        "colab_type": "code",
        "id": "xTVxh2YMFNoi",
        "colab": {}
      },
      "cell_type": "code",
      "source": [
        "best_model_svm.best_params_"
      ],
      "execution_count": 0,
      "outputs": []
    },
    {
      "metadata": {
        "colab_type": "code",
        "id": "q6uQxmsGFNol",
        "colab": {}
      },
      "cell_type": "code",
      "source": [
        "cross_val_score(best_model_svm.best_estimator_,X=X_train_res,y=y_train_res,cv=5)"
      ],
      "execution_count": 0,
      "outputs": []
    },
    {
      "metadata": {
        "colab_type": "code",
        "id": "WpO-hB4KFNor",
        "colab": {}
      },
      "cell_type": "code",
      "source": [
        "cross_val_score(best_model_svm.best_estimator_,X=X_train_res,y=y_train_res,cv=5).mean()"
      ],
      "execution_count": 0,
      "outputs": []
    },
    {
      "metadata": {
        "id": "2y-XL9-qGmNr",
        "colab_type": "code",
        "colab": {}
      },
      "cell_type": "code",
      "source": [
        "dff.head(20)"
      ],
      "execution_count": 0,
      "outputs": []
    },
    {
      "metadata": {
        "id": "Ay2nc1XHqMId",
        "colab_type": "text"
      },
      "cell_type": "markdown",
      "source": [
        "# **Models on imbalanced dataset**"
      ]
    },
    {
      "metadata": {
        "id": "lHFjw8pdO5y_",
        "colab_type": "code",
        "colab": {
          "base_uri": "https://localhost:8080/",
          "height": 413
        },
        "outputId": "eb16999b-535e-43ba-cad7-afaf2dfd94f1"
      },
      "cell_type": "code",
      "source": [
        "models=[RandomForestClassifier(),AdaBoostClassifier(),BaggingClassifier(),LinearSVC(),\n",
        "        KNeighborsClassifier(), DecisionTreeClassifier(),LogisticRegression(), GradientBoostingClassifier(), XGBClassifier(),GaussianNB()]\n",
        "model_names=['RandomForestClassifier','AdaBoostClassifier','BaggingClassifier','LinearSVC',\n",
        "             'KNeighborsClassifier', 'DecisionTreeClassifier', 'LogisticRegression', \n",
        "             'GradientBoostingClassifier', 'XGBClassifier','GaussianNB']\n",
        "ROC_AUC_scores = []\n",
        "F1_score=[]\n",
        "ck=[]\n",
        "mcc=[]\n",
        "\n",
        "d={}\n",
        "\n",
        "for model in range(len(models)):\n",
        "    clf = models[model]\n",
        "    clf.fit(x_train, y_train)\n",
        "    test_pred = clf.predict(x_test)\n",
        "    ROC_AUC_scores.append(roc_auc_score(y_test, test_pred))\n",
        "    F1_score.append(f1_score(y_test,test_pred))\n",
        "    ck.append(cohen_kappa_score(y_test,test_pred))\n",
        "    mcc.append(matthews_corrcoef(y_test,test_pred))\n",
        "    \n",
        "d={'Modelling Algo':model_names, 'ROC_AUC_Scores': ROC_AUC_scores,'F1_Score':F1_score,'cohen kappa':ck,'MCC':mcc}   \n",
        "df_models = pd.DataFrame(d)\n",
        "df_models"
      ],
      "execution_count": 46,
      "outputs": [
        {
          "output_type": "stream",
          "text": [
            "/usr/local/lib/python3.6/dist-packages/sklearn/preprocessing/label.py:151: DeprecationWarning: The truth value of an empty array is ambiguous. Returning False, but in future this will result in an error. Use `array.size > 0` to check that an array is not empty.\n",
            "  if diff:\n"
          ],
          "name": "stderr"
        },
        {
          "output_type": "execute_result",
          "data": {
            "text/html": [
              "<div>\n",
              "<style scoped>\n",
              "    .dataframe tbody tr th:only-of-type {\n",
              "        vertical-align: middle;\n",
              "    }\n",
              "\n",
              "    .dataframe tbody tr th {\n",
              "        vertical-align: top;\n",
              "    }\n",
              "\n",
              "    .dataframe thead th {\n",
              "        text-align: right;\n",
              "    }\n",
              "</style>\n",
              "<table border=\"1\" class=\"dataframe\">\n",
              "  <thead>\n",
              "    <tr style=\"text-align: right;\">\n",
              "      <th></th>\n",
              "      <th>F1_Score</th>\n",
              "      <th>MCC</th>\n",
              "      <th>Modelling Algo</th>\n",
              "      <th>ROC_AUC_Scores</th>\n",
              "      <th>cohen kappa</th>\n",
              "    </tr>\n",
              "  </thead>\n",
              "  <tbody>\n",
              "    <tr>\n",
              "      <th>0</th>\n",
              "      <td>0.642667</td>\n",
              "      <td>0.646224</td>\n",
              "      <td>RandomForestClassifier</td>\n",
              "      <td>0.777006</td>\n",
              "      <td>0.638253</td>\n",
              "    </tr>\n",
              "    <tr>\n",
              "      <th>1</th>\n",
              "      <td>0.708333</td>\n",
              "      <td>0.737373</td>\n",
              "      <td>AdaBoostClassifier</td>\n",
              "      <td>0.774810</td>\n",
              "      <td>0.705308</td>\n",
              "    </tr>\n",
              "    <tr>\n",
              "      <th>2</th>\n",
              "      <td>0.653951</td>\n",
              "      <td>0.660841</td>\n",
              "      <td>BaggingClassifier</td>\n",
              "      <td>0.776105</td>\n",
              "      <td>0.649805</td>\n",
              "    </tr>\n",
              "    <tr>\n",
              "      <th>3</th>\n",
              "      <td>0.709389</td>\n",
              "      <td>0.738953</td>\n",
              "      <td>LinearSVC</td>\n",
              "      <td>0.774827</td>\n",
              "      <td>0.706383</td>\n",
              "    </tr>\n",
              "    <tr>\n",
              "      <th>4</th>\n",
              "      <td>0.116129</td>\n",
              "      <td>0.227217</td>\n",
              "      <td>KNeighborsClassifier</td>\n",
              "      <td>0.531093</td>\n",
              "      <td>0.114370</td>\n",
              "    </tr>\n",
              "    <tr>\n",
              "      <th>5</th>\n",
              "      <td>0.535675</td>\n",
              "      <td>0.529200</td>\n",
              "      <td>DecisionTreeClassifier</td>\n",
              "      <td>0.777798</td>\n",
              "      <td>0.528534</td>\n",
              "    </tr>\n",
              "    <tr>\n",
              "      <th>6</th>\n",
              "      <td>0.707463</td>\n",
              "      <td>0.737387</td>\n",
              "      <td>LogisticRegression</td>\n",
              "      <td>0.773672</td>\n",
              "      <td>0.704445</td>\n",
              "    </tr>\n",
              "    <tr>\n",
              "      <th>7</th>\n",
              "      <td>0.704142</td>\n",
              "      <td>0.731148</td>\n",
              "      <td>GradientBoostingClassifier</td>\n",
              "      <td>0.774742</td>\n",
              "      <td>0.701040</td>\n",
              "    </tr>\n",
              "    <tr>\n",
              "      <th>8</th>\n",
              "      <td>0.709389</td>\n",
              "      <td>0.738953</td>\n",
              "      <td>XGBClassifier</td>\n",
              "      <td>0.774827</td>\n",
              "      <td>0.706383</td>\n",
              "    </tr>\n",
              "    <tr>\n",
              "      <th>9</th>\n",
              "      <td>0.405451</td>\n",
              "      <td>0.409302</td>\n",
              "      <td>GaussianNB</td>\n",
              "      <td>0.766321</td>\n",
              "      <td>0.394418</td>\n",
              "    </tr>\n",
              "  </tbody>\n",
              "</table>\n",
              "</div>"
            ],
            "text/plain": [
              "   F1_Score       MCC              Modelling Algo  ROC_AUC_Scores  cohen kappa\n",
              "0  0.642667  0.646224      RandomForestClassifier        0.777006     0.638253\n",
              "1  0.708333  0.737373          AdaBoostClassifier        0.774810     0.705308\n",
              "2  0.653951  0.660841           BaggingClassifier        0.776105     0.649805\n",
              "3  0.709389  0.738953                   LinearSVC        0.774827     0.706383\n",
              "4  0.116129  0.227217        KNeighborsClassifier        0.531093     0.114370\n",
              "5  0.535675  0.529200      DecisionTreeClassifier        0.777798     0.528534\n",
              "6  0.707463  0.737387          LogisticRegression        0.773672     0.704445\n",
              "7  0.704142  0.731148  GradientBoostingClassifier        0.774742     0.701040\n",
              "8  0.709389  0.738953               XGBClassifier        0.774827     0.706383\n",
              "9  0.405451  0.409302                  GaussianNB        0.766321     0.394418"
            ]
          },
          "metadata": {
            "tags": []
          },
          "execution_count": 46
        }
      ]
    },
    {
      "metadata": {
        "id": "bkqU1X0VPRnU",
        "colab_type": "code",
        "colab": {
          "base_uri": "https://localhost:8080/",
          "height": 68
        },
        "outputId": "621d69d9-e58b-4b43-9a3f-faecea553e79"
      },
      "cell_type": "code",
      "source": [
        "y_train.value_counts()"
      ],
      "execution_count": 26,
      "outputs": [
        {
          "output_type": "execute_result",
          "data": {
            "text/plain": [
              "0.0    69007\n",
              "1.0      993\n",
              "Name: stroke, dtype: int64"
            ]
          },
          "metadata": {
            "tags": []
          },
          "execution_count": 26
        }
      ]
    },
    {
      "metadata": {
        "id": "IEaC7_WYPAhi",
        "colab_type": "code",
        "colab": {
          "base_uri": "https://localhost:8080/",
          "height": 68
        },
        "outputId": "d842ad35-9e75-4837-c4a3-4645dba34367"
      },
      "cell_type": "code",
      "source": [
        "y_test.value_counts()"
      ],
      "execution_count": 27,
      "outputs": [
        {
          "output_type": "execute_result",
          "data": {
            "text/plain": [
              "0.0    29567\n",
              "1.0      433\n",
              "Name: stroke, dtype: int64"
            ]
          },
          "metadata": {
            "tags": []
          },
          "execution_count": 27
        }
      ]
    },
    {
      "metadata": {
        "id": "EJ9SSEHRPdfa",
        "colab_type": "code",
        "colab": {
          "base_uri": "https://localhost:8080/",
          "height": 204
        },
        "outputId": "31a54d0e-fc6d-40e5-e77a-f468baf22076"
      },
      "cell_type": "code",
      "source": [
        "pp=pd.DataFrame(test_pred,columns=['prediction'])\n",
        "pp.head()"
      ],
      "execution_count": 32,
      "outputs": [
        {
          "output_type": "execute_result",
          "data": {
            "text/html": [
              "<div>\n",
              "<style scoped>\n",
              "    .dataframe tbody tr th:only-of-type {\n",
              "        vertical-align: middle;\n",
              "    }\n",
              "\n",
              "    .dataframe tbody tr th {\n",
              "        vertical-align: top;\n",
              "    }\n",
              "\n",
              "    .dataframe thead th {\n",
              "        text-align: right;\n",
              "    }\n",
              "</style>\n",
              "<table border=\"1\" class=\"dataframe\">\n",
              "  <thead>\n",
              "    <tr style=\"text-align: right;\">\n",
              "      <th></th>\n",
              "      <th>prediction</th>\n",
              "    </tr>\n",
              "  </thead>\n",
              "  <tbody>\n",
              "    <tr>\n",
              "      <th>0</th>\n",
              "      <td>0.0</td>\n",
              "    </tr>\n",
              "    <tr>\n",
              "      <th>1</th>\n",
              "      <td>0.0</td>\n",
              "    </tr>\n",
              "    <tr>\n",
              "      <th>2</th>\n",
              "      <td>0.0</td>\n",
              "    </tr>\n",
              "    <tr>\n",
              "      <th>3</th>\n",
              "      <td>0.0</td>\n",
              "    </tr>\n",
              "    <tr>\n",
              "      <th>4</th>\n",
              "      <td>0.0</td>\n",
              "    </tr>\n",
              "  </tbody>\n",
              "</table>\n",
              "</div>"
            ],
            "text/plain": [
              "   prediction\n",
              "0         0.0\n",
              "1         0.0\n",
              "2         0.0\n",
              "3         0.0\n",
              "4         0.0"
            ]
          },
          "metadata": {
            "tags": []
          },
          "execution_count": 32
        }
      ]
    },
    {
      "metadata": {
        "id": "AJuEowkHPj-A",
        "colab_type": "code",
        "colab": {
          "base_uri": "https://localhost:8080/",
          "height": 68
        },
        "outputId": "818374ac-35b8-4936-f6b9-0b29a4977975"
      },
      "cell_type": "code",
      "source": [
        "pp['prediction'].value_counts()"
      ],
      "execution_count": 33,
      "outputs": [
        {
          "output_type": "execute_result",
          "data": {
            "text/plain": [
              "0.0    29259\n",
              "1.0      741\n",
              "Name: prediction, dtype: int64"
            ]
          },
          "metadata": {
            "tags": []
          },
          "execution_count": 33
        }
      ]
    },
    {
      "metadata": {
        "id": "3bbEaWJ3Pwtv",
        "colab_type": "code",
        "colab": {
          "base_uri": "https://localhost:8080/",
          "height": 71
        },
        "outputId": "62342a79-9220-4db3-bb6f-09a7b260a939"
      },
      "cell_type": "code",
      "source": [
        "xgb=XGBClassifier()\n",
        "xgb.fit(x_train,y_train)\n",
        "xg_pred=xgb.predict(x_test)"
      ],
      "execution_count": 37,
      "outputs": [
        {
          "output_type": "stream",
          "text": [
            "/usr/local/lib/python3.6/dist-packages/sklearn/preprocessing/label.py:151: DeprecationWarning: The truth value of an empty array is ambiguous. Returning False, but in future this will result in an error. Use `array.size > 0` to check that an array is not empty.\n",
            "  if diff:\n"
          ],
          "name": "stderr"
        }
      ]
    },
    {
      "metadata": {
        "id": "rngKhgxWQ627",
        "colab_type": "code",
        "colab": {
          "base_uri": "https://localhost:8080/",
          "height": 51
        },
        "outputId": "46056cee-cf95-4a15-9d1e-88828b0c1a08"
      },
      "cell_type": "code",
      "source": [
        "print(confusion_matrix(y_test,xg_pred))"
      ],
      "execution_count": 39,
      "outputs": [
        {
          "output_type": "stream",
          "text": [
            "[[29567     0]\n",
            " [  195   238]]\n"
          ],
          "name": "stdout"
        }
      ]
    },
    {
      "metadata": {
        "id": "h3hFL2SHRiZt",
        "colab_type": "code",
        "colab": {
          "base_uri": "https://localhost:8080/",
          "height": 136
        },
        "outputId": "9d75adc8-2889-479d-ad08-65b7d19ee6b3"
      },
      "cell_type": "code",
      "source": [
        "print(classification_report(y_test,xg_pred))"
      ],
      "execution_count": 42,
      "outputs": [
        {
          "output_type": "stream",
          "text": [
            "             precision    recall  f1-score   support\n",
            "\n",
            "        0.0       0.99      1.00      1.00     29567\n",
            "        1.0       1.00      0.55      0.71       433\n",
            "\n",
            "avg / total       0.99      0.99      0.99     30000\n",
            "\n"
          ],
          "name": "stdout"
        }
      ]
    },
    {
      "metadata": {
        "id": "bIDms-kkRoxV",
        "colab_type": "code",
        "colab": {}
      },
      "cell_type": "code",
      "source": [
        ""
      ],
      "execution_count": 0,
      "outputs": []
    },
    {
      "metadata": {
        "id": "-TvYOed4fj9w",
        "colab_type": "text"
      },
      "cell_type": "markdown",
      "source": [
        "# ** Data to csv **"
      ]
    },
    {
      "metadata": {
        "id": "1L58B_aLhb4z",
        "colab_type": "code",
        "colab": {}
      },
      "cell_type": "code",
      "source": [
        "data_complete_df.to_excel(r'C:\\Users\\user\\Desktop\\BA\\Term-III\\Capstone Project\\New_data.xlsx')"
      ],
      "execution_count": 0,
      "outputs": []
    },
    {
      "metadata": {
        "id": "4TACsxMbleGE",
        "colab_type": "code",
        "colab": {}
      },
      "cell_type": "code",
      "source": [
        "from google.colab import files"
      ],
      "execution_count": 0,
      "outputs": []
    },
    {
      "metadata": {
        "id": "2hP9T3d4fmcZ",
        "colab_type": "text"
      },
      "cell_type": "markdown",
      "source": [
        "# ** Clustering**"
      ]
    },
    {
      "metadata": {
        "id": "H9qxHf5ofo7g",
        "colab_type": "code",
        "colab": {
          "base_uri": "https://localhost:8080/",
          "height": 357
        },
        "outputId": "57aa0800-2d8d-4a36-bf7e-2c0c5cc187b4"
      },
      "cell_type": "code",
      "source": [
        "!pip install pyclustering"
      ],
      "execution_count": 1,
      "outputs": [
        {
          "output_type": "stream",
          "text": [
            "Collecting pyclustering\n",
            "\u001b[?25l  Downloading https://files.pythonhosted.org/packages/3c/e5/3be27187d430d1c921d32e08355068fde3a0f5897b80145930f00d701461/pyclustering-0.8.2.tar.gz (2.1MB)\n",
            "\u001b[K    100% |████████████████████████████████| 2.1MB 10.4MB/s \n",
            "\u001b[?25hRequirement already satisfied: scipy in /usr/local/lib/python3.6/dist-packages (from pyclustering) (1.1.0)\n",
            "Requirement already satisfied: matplotlib in /usr/local/lib/python3.6/dist-packages (from pyclustering) (3.0.3)\n",
            "Requirement already satisfied: numpy in /usr/local/lib/python3.6/dist-packages (from pyclustering) (1.14.6)\n",
            "Requirement already satisfied: Pillow in /usr/local/lib/python3.6/dist-packages (from pyclustering) (4.1.1)\n",
            "Requirement already satisfied: cycler>=0.10 in /usr/local/lib/python3.6/dist-packages (from matplotlib->pyclustering) (0.10.0)\n",
            "Requirement already satisfied: python-dateutil>=2.1 in /usr/local/lib/python3.6/dist-packages (from matplotlib->pyclustering) (2.5.3)\n",
            "Requirement already satisfied: kiwisolver>=1.0.1 in /usr/local/lib/python3.6/dist-packages (from matplotlib->pyclustering) (1.0.1)\n",
            "Requirement already satisfied: pyparsing!=2.0.4,!=2.1.2,!=2.1.6,>=2.0.1 in /usr/local/lib/python3.6/dist-packages (from matplotlib->pyclustering) (2.3.1)\n",
            "Requirement already satisfied: olefile in /usr/local/lib/python3.6/dist-packages (from Pillow->pyclustering) (0.46)\n",
            "Requirement already satisfied: six in /usr/local/lib/python3.6/dist-packages (from cycler>=0.10->matplotlib->pyclustering) (1.11.0)\n",
            "Requirement already satisfied: setuptools in /usr/local/lib/python3.6/dist-packages (from kiwisolver>=1.0.1->matplotlib->pyclustering) (40.8.0)\n",
            "Building wheels for collected packages: pyclustering\n",
            "  Building wheel for pyclustering (setup.py) ... \u001b[?25ldone\n",
            "\u001b[?25h  Stored in directory: /root/.cache/pip/wheels/d6/61/75/0f70c5f9e363b194b6bc197794c4376f72a550e9d5faf19958\n",
            "Successfully built pyclustering\n",
            "Installing collected packages: pyclustering\n",
            "Successfully installed pyclustering-0.8.2\n"
          ],
          "name": "stdout"
        }
      ]
    },
    {
      "metadata": {
        "id": "vhamMdAlfqLc",
        "colab_type": "code",
        "colab": {}
      },
      "cell_type": "code",
      "source": [
        ""
      ],
      "execution_count": 0,
      "outputs": []
    }
  ]
}